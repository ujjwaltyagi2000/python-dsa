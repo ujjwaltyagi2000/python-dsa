{
 "cells": [
  {
   "cell_type": "markdown",
   "id": "dc37b970",
   "metadata": {},
   "source": [
    "## Array Subset\n",
    "\n",
    "Given two arrays a[] and b[], your task is to determine whether b[] is a subset of a[].\n",
    "\n",
    "Examples:\n",
    "\n",
    "    Input: a[] = [11, 7, 1, 13, 21, 3, 7, 3], b[] = [11, 3, 7, 1, 7]\n",
    "    Output: true\n",
    "    Explanation: b[] is a subset of a[]\n",
    "\n",
    "    Input: a[] = [1, 2, 3, 4, 4, 5, 6], b[] = [1, 2, 4]\n",
    "    Output: true\n",
    "    Explanation: b[] is a subset of a[]\n",
    "\n",
    "    Input: a[] = [10, 5, 2, 23, 19], b[] = [19, 5, 3]\n",
    "    Output: false\n",
    "    Explanation: b[] is not a subset of a[]\n",
    "\n",
    "Constraints:\n",
    "\n",
    "1 <= a.size(), b.size() <= 10<sup>5</sup>\n",
    "\n",
    "1 <= a[i], b[j] <= 10<sup>6</sup>"
   ]
  },
  {
   "cell_type": "code",
   "execution_count": 16,
   "id": "10870aae",
   "metadata": {},
   "outputs": [],
   "source": [
    "class Solution:\n",
    "    #Function to check if a is a subset of b.\n",
    "    def isSubset(self, a, b):\n",
    "        # Your code here\n",
    "        set_a = set(a)\n",
    "        set_b = set(b)\n",
    "        if set_b <= set_a:\n",
    "            return True\n",
    "        else:\n",
    "            return False"
   ]
  },
  {
   "cell_type": "markdown",
   "id": "7da6ae4e",
   "metadata": {},
   "source": [
    "There's a problem with the above code:\n",
    "\n",
    "a = [1, 2, 3]\n",
    "\n",
    "b = [1, 1]\n",
    "\n",
    "set_a = {1, 2, 3}\n",
    "\n",
    "set_b = {1}\n",
    "\n",
    "set_b <= set_a → True\n",
    "\n",
    "But b is not truly a subset of a with respect to element count"
   ]
  },
  {
   "cell_type": "code",
   "execution_count": 17,
   "id": "1e3a2b49",
   "metadata": {},
   "outputs": [],
   "source": [
    "class Solution:\n",
    "    #Function to check if a is a subset of b.\n",
    "    def isSubset(self, a, b):\n",
    "        for term in b:\n",
    "            if term in a:\n",
    "                a.remove(term)\n",
    "            else:\n",
    "                return False\n",
    "        return True\n"
   ]
  },
  {
   "cell_type": "markdown",
   "id": "e2db0a22",
   "metadata": {},
   "source": [
    "The above solution is correct but the time is too much. Why? Because of remove() method. It first searches for the item to remove and them after removing the remaining elements are re-arranged."
   ]
  },
  {
   "cell_type": "code",
   "execution_count": 18,
   "id": "101527af",
   "metadata": {},
   "outputs": [],
   "source": [
    "class Solution:\n",
    "    def isSubset(self, a, b):\n",
    "        freq = {}\n",
    "\n",
    "        # Count frequencies in a[]\n",
    "        for num in a:\n",
    "            if num in freq:\n",
    "                # if num already exists, increment its count\n",
    "                freq[num] += 1\n",
    "            else:\n",
    "                # if num doesn't exist, initialize its count to 1\n",
    "                freq[num] = 1\n",
    "\n",
    "        # Check if b[] elements exist with enough count in a[]\n",
    "        for num in b:\n",
    "            if num not in freq or freq[num] == 0:\n",
    "                return False\n",
    "            freq[num] -= 1\n",
    "\n",
    "        return True\n"
   ]
  },
  {
   "cell_type": "markdown",
   "id": "1ce677f1",
   "metadata": {},
   "source": [
    "## 2. Check for Disjoint\n",
    "\n",
    "Given two arrays a[] and b[], check if they are disjoint, i.e., there is no element common between both the arrays. Return true if if they are disjoint, otherwise, false.\n",
    "\n",
    "Examples:\n",
    "\n",
    "    Input: a[] = [2, 34, 11, 9, 3], b[] = [2, 1, 3, 5]\n",
    "    Output: false\n",
    "    Explanation: 3 is common in both the arrays.\n",
    "\n",
    "    Input: a[] = [12, 34, 11, 9, 3], b[] = [7, 2, 1, 5]\n",
    "    Output: true \n",
    "    Explanation: There is no common element in both the sets.\n",
    "\n",
    "    Input: a[] = [1, 2, 3, 4], b[] = [4, 3, 2, 1]\n",
    "    Output: false\n",
    "    Explanation: All the elements are common in both the arrays.\n",
    "\n",
    "Constraints:\n",
    "\n",
    "1 <= arr.size() <= 10<sup>6</sup>\n",
    "\n",
    "1 <= arr[i] <= 10<sup>6</sup>"
   ]
  },
  {
   "cell_type": "code",
   "execution_count": 19,
   "id": "386ba25e",
   "metadata": {},
   "outputs": [],
   "source": [
    "#User function Template for python3\n",
    "class Solution:\n",
    "    # Function to check if two arrays are disjoint\n",
    "    def areDisjoint(self, a, b):\n",
    "        #code here\n",
    "        for elem in a:\n",
    "            if elem in b:\n",
    "                return False\n",
    "        return True\n"
   ]
  },
  {
   "cell_type": "code",
   "execution_count": 20,
   "id": "63f2d4d2",
   "metadata": {},
   "outputs": [
    {
     "name": "stdout",
     "output_type": "stream",
     "text": [
      "True\n",
      "False\n"
     ]
    }
   ],
   "source": [
    "sol = Solution()\n",
    "# Example usage\n",
    "a = [1, 2, 3]\n",
    "b = [4, 5, 6]\n",
    "print(sol.areDisjoint(a, b))  # Output: True\n",
    "\n",
    "a = [1, 2, 3, 4]\n",
    "b = [4, 5, 6]\n",
    "print(sol.areDisjoint(a, b))  # Output: False"
   ]
  },
  {
   "cell_type": "markdown",
   "id": "27b12c80",
   "metadata": {},
   "source": [
    "## 3. Union of Arrays with Duplicates\n",
    "\n",
    "Given two arrays a[] and b[], the task is to find the number of elements in the union between these two arrays.\n",
    "\n",
    "The Union of the two arrays can be defined as the set containing distinct elements from both arrays. If there are repetitions, then only one element occurrence should be there in the union.\n",
    "\n",
    "Note: Elements of a[] and b[] are not necessarily distinct.\n",
    "\n",
    "Examples\n",
    "\n",
    "    Input: a[] = [1, 2, 3, 4, 5], b[] = [1, 2, 3]\n",
    "    Output: 5\n",
    "    Explanation: Union set of both the arrays will be 1, 2, 3, 4 and 5. So count is 5.\n",
    "\n",
    "    Input: a[] = [85, 25, 1, 32, 54, 6], b[] = [85, 2] \n",
    "    Output: 7\n",
    "    Explanation: Union set of both the arrays will be 85, 25, 1, 32, 54, 6, and 2. So count is 7.\n",
    "\n",
    "    Input: a[] = [1, 2, 1, 1, 2], b[] = [2, 2, 1, 2, 1] \n",
    "    Output: 2\n",
    "    Explanation: We need to consider only distinct. So count of elements in union set will be 2.\n",
    "\n",
    "Constraints:\n",
    "\n",
    "1 ≤ a.size(), b.size() ≤ 10<sup>6</sup>\n",
    "\n",
    "0 ≤ a[i], b[i] ≤ 10<sup>5</sup>"
   ]
  },
  {
   "cell_type": "code",
   "execution_count": 21,
   "id": "fd978767",
   "metadata": {},
   "outputs": [],
   "source": [
    "class Solution:    \n",
    "    #Function to return the count of number of elements in union of two arrays.\n",
    "    def findUnion(self, a, b):\n",
    "        # code here\n",
    "        distinct_elements = set()\n",
    "        for num in a:\n",
    "            if num not in distinct_elements:\n",
    "                distinct_elements.add(num)\n",
    "        for num in b:\n",
    "            if num not in distinct_elements:\n",
    "                distinct_elements.add(num)\n",
    "        return len(distinct_elements)\n"
   ]
  },
  {
   "cell_type": "code",
   "execution_count": 22,
   "id": "723bc748",
   "metadata": {},
   "outputs": [
    {
     "data": {
      "text/plain": [
       "8"
      ]
     },
     "execution_count": 22,
     "metadata": {},
     "output_type": "execute_result"
    }
   ],
   "source": [
    "a = [1, 2, 3, 4, 5]\n",
    "b = [4,5,6,7,8]\n",
    "\n",
    "sol = Solution()\n",
    "sol.findUnion(a,b) # Output: 5"
   ]
  },
  {
   "cell_type": "markdown",
   "id": "f55d9530",
   "metadata": {},
   "source": [
    "## 4. Intersection of Two arrays with Duplicate Elements\n",
    "\n",
    "Given two integer arrays a[] and b[], you have to find the intersection of the two arrays. Intersection of two arrays is said to be elements that are common in both arrays. The intersection should not have duplicate elements and the result should contain items in any order.\n",
    "\n",
    "Note: The driver code will sort the resulting array in increasing order before printing.\n",
    "\n",
    "Examples:\n",
    "\n",
    "    Input: a[] = [1, 2, 1, 3, 1], b[] = [3, 1, 3, 4, 1]\n",
    "    Output: [1, 3]\n",
    "    Explanation: 1 and 3 are the only common elements and we need to print only one occurrence of common elements.\n",
    "\n",
    "    Input: a[] = [1, 1, 1], b[] = [1, 1, 1, 1, 1]\n",
    "    Output: [1]\n",
    "    Explanation: 1 is the only common element present in both the arrays.\n",
    "\n",
    "    Input: a[] = [1, 2, 3], b[] = [4, 5, 6]\n",
    "    Output: []\n",
    "    Explanation: No common element in both the arrays.\n",
    "\n",
    "Constraints:\n",
    "\n",
    "1 ≤ a.size(), b.size() ≤ 10<sup>5</sup>\n",
    "\n",
    "1 ≤ a[i], b[i] ≤ 10<sup>5</sup>"
   ]
  },
  {
   "cell_type": "code",
   "execution_count": 23,
   "id": "74ad6d90",
   "metadata": {},
   "outputs": [],
   "source": [
    "class Solution:\n",
    "    def intersectionWithDuplicates(self, a, b):\n",
    "        # code here\n",
    "        set_a = set(a)\n",
    "        set_b = set(b)\n",
    "        intersection = set_a.intersection(set_b)\n",
    "        return list(intersection)\n",
    "\n",
    "\n",
    "\n"
   ]
  },
  {
   "cell_type": "code",
   "execution_count": 24,
   "id": "f07e0758",
   "metadata": {},
   "outputs": [
    {
     "name": "stdout",
     "output_type": "stream",
     "text": [
      "[1, 3]\n"
     ]
    }
   ],
   "source": [
    "a = [1, 2, 1, 3, 1]\n",
    "b = [3, 1, 3, 4, 1]\n",
    "\n",
    "sol = Solution()\n",
    "print(sol.intersectionWithDuplicates(a, b))  # Output: [1, 3]"
   ]
  },
  {
   "cell_type": "markdown",
   "id": "8d46f035",
   "metadata": {},
   "source": [
    "## 5. Two Sum - Pair with Given Sum\n",
    "\n",
    "Given an array arr[] of positive integers and another integer target. Determine if there exist two distinct indices such that the sum of their elements is equal to the target.\n",
    "\n",
    "Examples:\n",
    "\n",
    "    Input: arr[] = [1, 4, 45, 6, 10, 8], target = 16\n",
    "    Output: true\n",
    "    Explanation: arr[3] + arr[4] = 6 + 10 = 16.\n",
    "\n",
    "    Input: arr[] = [1, 2, 4, 3, 6], target = 11\n",
    "    Output: false\n",
    "    Explanation: None of the pair makes a sum of 11.\n",
    "\n",
    "    Input: arr[] = [11], target = 11\n",
    "    Output: false\n",
    "    Explanation: No pair is possible as only one element is present in arr[].\n",
    "\n",
    "Constraints:\n",
    "1 ≤ arr.size ≤ 10<sup>5</sup>\n",
    "\n",
    "1 ≤ arr[i] ≤ 10<sup>5</sup>\n",
    "\n",
    "1 ≤ target ≤ 2*10<sup>5</sup>"
   ]
  },
  {
   "cell_type": "code",
   "execution_count": 25,
   "id": "bcee6dbf",
   "metadata": {},
   "outputs": [],
   "source": [
    "class Solution:\n",
    "    def twoSum(self, arr, target):\n",
    "        # code here\n",
    "        for i in range(len(arr)):\n",
    "            for j in range(i+1,len(arr)):\n",
    "                if arr[i] + arr[j] == target:\n",
    "                    return True\n",
    "        return False\n"
   ]
  },
  {
   "cell_type": "code",
   "execution_count": 26,
   "id": "091e02e9",
   "metadata": {},
   "outputs": [
    {
     "name": "stdout",
     "output_type": "stream",
     "text": [
      "False\n",
      "True\n"
     ]
    }
   ],
   "source": [
    "sol = Solution()\n",
    "print(sol.twoSum([1,2,3,4,6],23))\n",
    "print(sol.twoSum([1,2,3,4,6],10))"
   ]
  },
  {
   "cell_type": "markdown",
   "id": "a28d9fd8",
   "metadata": {},
   "source": [
    "The solution is correct but the 10<sup>5</sup> constraint will take a lot of time. A better solution whose time complexity < O(n<sup>2</sup>) needs to be figured out."
   ]
  },
  {
   "cell_type": "code",
   "execution_count": 27,
   "id": "fe412480",
   "metadata": {},
   "outputs": [],
   "source": [
    "class Solution():\n",
    "    def twoSum(self, arr, target):\n",
    "        seen = set()\n",
    "        for num in arr:\n",
    "            if len(seen) == 0:\n",
    "                seen.add(num)\n",
    "                print(f\"Inside first loop, first entry = {num}\")\n",
    "                continue\n",
    "            required_num = target - num\n",
    "            print(f\"Current Num = {num}, Required Num = {required_num}\")\n",
    "            if required_num in seen:\n",
    "                return True\n",
    "            \n",
    "        return False"
   ]
  },
  {
   "cell_type": "code",
   "execution_count": 28,
   "id": "b9ff5f41",
   "metadata": {},
   "outputs": [
    {
     "name": "stdout",
     "output_type": "stream",
     "text": [
      "Inside first loop, first entry = 1\n",
      "Current Num = 2, Required Num = 21\n",
      "Current Num = 3, Required Num = 20\n",
      "Current Num = 4, Required Num = 19\n",
      "Current Num = 6, Required Num = 17\n",
      "False\n",
      "Inside first loop, first entry = 1\n",
      "Current Num = 2, Required Num = 8\n",
      "Current Num = 3, Required Num = 7\n",
      "Current Num = 4, Required Num = 6\n",
      "Current Num = 6, Required Num = 4\n",
      "False\n"
     ]
    }
   ],
   "source": [
    "sol = Solution()\n",
    "print(sol.twoSum([1,2,3,4,6],23))\n",
    "print(sol.twoSum([1,2,3,4,6],10))"
   ]
  },
  {
   "cell_type": "markdown",
   "id": "a61d4f74",
   "metadata": {},
   "source": [
    "The above code has a couple mistakes. Let's fix them"
   ]
  },
  {
   "cell_type": "code",
   "execution_count": 29,
   "id": "d4a77ba5",
   "metadata": {},
   "outputs": [],
   "source": [
    "class Solution():\n",
    "    def twoSum(self, arr, target):\n",
    "        seen = set()\n",
    "        for num in arr:\n",
    "            required_num = target - num\n",
    "            print(f\"Current Num = {num}, Required Num = {required_num}\")\n",
    "            if required_num in seen:\n",
    "                return True\n",
    "            seen.add(num) \n",
    "        return False\n"
   ]
  },
  {
   "cell_type": "code",
   "execution_count": 30,
   "id": "f0709af1",
   "metadata": {},
   "outputs": [
    {
     "name": "stdout",
     "output_type": "stream",
     "text": [
      "Current Num = 1, Required Num = 22\n",
      "Current Num = 2, Required Num = 21\n",
      "Current Num = 3, Required Num = 20\n",
      "Current Num = 4, Required Num = 19\n",
      "Current Num = 6, Required Num = 17\n",
      "False\n",
      "Current Num = 1, Required Num = 9\n",
      "Current Num = 2, Required Num = 8\n",
      "Current Num = 3, Required Num = 7\n",
      "Current Num = 4, Required Num = 6\n",
      "Current Num = 6, Required Num = 4\n",
      "True\n"
     ]
    }
   ],
   "source": [
    "sol = Solution()\n",
    "print(sol.twoSum([1,2,3,4,6],23))\n",
    "print(sol.twoSum([1,2,3,4,6],10))"
   ]
  }
 ],
 "metadata": {
  "kernelspec": {
   "display_name": "base",
   "language": "python",
   "name": "python3"
  },
  "language_info": {
   "codemirror_mode": {
    "name": "ipython",
    "version": 3
   },
   "file_extension": ".py",
   "mimetype": "text/x-python",
   "name": "python",
   "nbconvert_exporter": "python",
   "pygments_lexer": "ipython3",
   "version": "3.10.13"
  }
 },
 "nbformat": 4,
 "nbformat_minor": 5
}
