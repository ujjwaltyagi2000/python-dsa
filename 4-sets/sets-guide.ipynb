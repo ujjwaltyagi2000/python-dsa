{
 "cells": [
  {
   "cell_type": "markdown",
   "id": "6da58f82",
   "metadata": {
    "vscode": {
     "languageId": "markdown"
    }
   },
   "source": [
    "# **Sets**"
   ]
  },
  {
   "cell_type": "markdown",
   "id": "e0d640c0",
   "metadata": {},
   "source": [
    "A Set in Python is used to store a collection of items with the following properties.\n",
    "\n",
    "- No duplicate elements. If try to insert the same item again, it overwrites previous one.\n",
    "\n",
    "- An unordered collection. When we access all items, they are accessed without any specific order and we cannot access items using indexes as we do in lists.\n",
    "\n",
    "- Internally use hashing that makes set efficient for search, insert and delete operations. It gives a major advantage over a list for problems with these operations.\n",
    "\n",
    "- Mutable, meaning we can add or remove elements after their creation, the individual elements within the set cannot be changed directly."
   ]
  },
  {
   "cell_type": "code",
   "execution_count": 36,
   "id": "3a105be9",
   "metadata": {},
   "outputs": [
    {
     "name": "stdout",
     "output_type": "stream",
     "text": [
      "{'c', 'a', 'b'}\n",
      "{'d', 'c', 'a', 'b'}\n"
     ]
    }
   ],
   "source": [
    "# typecasting list to set  \n",
    "s = set([\"a\", \"b\", \"c\"])\n",
    "print(s)\n",
    "\n",
    "# Adding element to the set\n",
    "s.add(\"d\")\n",
    "print(s)"
   ]
  },
  {
   "cell_type": "markdown",
   "id": "399cf55e",
   "metadata": {},
   "source": [
    "Check unique and  Immutable with Python Set\n",
    "\n",
    "Python sets cannot have duplicate values. While you cannot modify the individual elements directly, you can still add or remove elements from the set."
   ]
  },
  {
   "cell_type": "code",
   "execution_count": 37,
   "id": "a5fcc685",
   "metadata": {},
   "outputs": [
    {
     "name": "stdout",
     "output_type": "stream",
     "text": [
      "{'for', 'Geeks'}\n",
      "{'for', 'Geeks', 'Hello'}\n"
     ]
    }
   ],
   "source": [
    "# Python program to demonstrate that\n",
    "# a set cannot have duplicate values \n",
    "# and we cannot change its items\n",
    "\n",
    "# a set cannot have duplicate values\n",
    "s = {\"Geeks\", \"for\", \"Geeks\"}\n",
    "print(s)\n",
    "\n",
    "# values of a set cannot be changed\n",
    "# s[1] = \"Hello\"\n",
    "# print(s)\n",
    "\n",
    "s.add(\"Hello\")\n",
    "print(s)"
   ]
  },
  {
   "cell_type": "code",
   "execution_count": 38,
   "id": "c8095ecd",
   "metadata": {},
   "outputs": [],
   "source": [
    "s.remove(\"for\")"
   ]
  },
  {
   "cell_type": "code",
   "execution_count": 39,
   "id": "7246f53a",
   "metadata": {},
   "outputs": [
    {
     "data": {
      "text/plain": [
       "{'Geeks', 'Hello'}"
      ]
     },
     "execution_count": 39,
     "metadata": {},
     "output_type": "execute_result"
    }
   ],
   "source": [
    "s"
   ]
  },
  {
   "cell_type": "markdown",
   "id": "eb3e8f89",
   "metadata": {},
   "source": [
    "Heterogeneous Element with Python Set\n",
    "\n",
    "Python sets can store heterogeneous elements in it, i.e., a set can store a mixture of string, integer, boolean, etc datatypes."
   ]
  },
  {
   "cell_type": "code",
   "execution_count": 40,
   "id": "8a5db536",
   "metadata": {},
   "outputs": [
    {
     "name": "stdout",
     "output_type": "stream",
     "text": [
      "{True, 'for', 'Geeks', 52.7, 10}\n"
     ]
    }
   ],
   "source": [
    "# Python example demonstrate that a set\n",
    "# can store heterogeneous elements\n",
    "s = {\"Geeks\", \"for\", 10, 52.7, True}\n",
    "print(s)"
   ]
  },
  {
   "cell_type": "markdown",
   "id": "9a088a9d",
   "metadata": {},
   "source": [
    "### Python Frozen Sets\n",
    "\n",
    "Frozen sets in Python are immutable objects that only support methods and operators that produce a result without affecting the frozen set or sets to which they are applied. It can be done with frozenset() method in Python.\n",
    "\n",
    "While elements of a set can be modified at any time, elements of the frozen set remain the same after creation. \n",
    "\n",
    "If no parameters are passed, it returns an empty frozenset."
   ]
  },
  {
   "cell_type": "code",
   "execution_count": 41,
   "id": "1e9ed686",
   "metadata": {},
   "outputs": [
    {
     "name": "stdout",
     "output_type": "stream",
     "text": [
      "Normal Set\n",
      "{'c', 'a', 'b'}\n",
      "\n",
      "Frozen Set\n",
      "frozenset({'g', 'e', 'f'})\n",
      "Normal set after adding element {'c', 'a', 'b', 'h'}\n"
     ]
    }
   ],
   "source": [
    "# Python program to demonstrate differences\n",
    "# between normal and frozen set\n",
    "\n",
    "# Same as {\"a\", \"b\",\"c\"}\n",
    "s = set([\"a\", \"b\",\"c\"])\n",
    "\n",
    "print(\"Normal Set\")\n",
    "print(s)\n",
    "\n",
    "# A frozen set\n",
    "fs = frozenset([\"e\", \"f\", \"g\"])\n",
    "\n",
    "print(\"\\nFrozen Set\")\n",
    "print(fs)\n",
    "\n",
    "# Uncommenting below line would cause error as\n",
    "# we are trying to add element to a frozen set\n",
    "# fs.add(\"h\")\n",
    "s.add(\"h\")\n",
    "print(\"Normal set after adding element\", s)"
   ]
  },
  {
   "cell_type": "markdown",
   "id": "d84765c6",
   "metadata": {},
   "source": [
    "**Internal working of Set**\n",
    "\n",
    "This is based on a data structure known as a hash table. \n",
    "\n",
    "🔹 What is Hashing?\n",
    "\n",
    "**Hashing** is a process that takes some data (like a number, string, or object) and runs it through a function (called a **hash function**) to produce a **fixed-size integer** (called a **hash value** or **hash code**).\n",
    "\n",
    "Think of it like this:\n",
    "\n",
    "> 🔑 *Hashing is a way to turn any object into a unique digital fingerprint — a number that represents that object.*\n",
    "\n",
    "---\n",
    "\n",
    "🔹 Why is Hashing Used in Sets?\n",
    "\n",
    "Hashing lets Python quickly **find out where to store or look for** an element in a set without scanning every element.\n",
    "\n",
    "Instead of checking each element one by one, Python:\n",
    "\n",
    "1. Hashes the element to get a number.\n",
    "2. Uses that number to jump directly to a **specific slot** in memory.\n",
    "3. Checks if the element is already there (or nearby if there was a collision).\n",
    "\n",
    "This is why operations like `in`, `add`, and `remove` are so fast — average **O(1) time**.\n",
    "\n",
    "---\n",
    "\n",
    "🔹 Hash Function in Python\n",
    "\n",
    "In Python, every object that can go into a set or dictionary must be **hashable** — it must implement the `__hash__()` method.\n",
    "\n",
    "Examples:\n",
    "\n",
    "```python\n",
    "hash(42)        # Output: 42\n",
    "hash(\"apple\")   # Output: some integer like -1859899447714603290\n",
    "```\n",
    "\n",
    "Each value produces a unique integer (as much as possible).\n",
    "\n",
    "---\n",
    "\n",
    "🔹 Real-World Analogy\n",
    "\n",
    "Imagine you’re putting books into 100 lockers.\n",
    "\n",
    "* Instead of checking each locker to find the right one, you run the book title through a **hash function** that tells you to put it in **Locker #17**.\n",
    "* When you want to check if a book is already there, you hash the title again and go straight to **Locker #17** to check.\n",
    "\n",
    "---\n",
    "\n",
    "🔹 Summary\n",
    "\n",
    "| Term           | Meaning                                                           |\n",
    "| -------------- | ----------------------------------------------------------------- |\n",
    "| Hash           | A number generated from data using a hash function                |\n",
    "| Hash Function  | Function that takes data and returns a hash                       |\n",
    "| Hash Table     | Data structure that stores items using their hash as a lookup key |\n",
    "| Hash Collision | When two items produce the same hash                              |\n",
    "\n"
   ]
  },
  {
   "cell_type": "markdown",
   "id": "05ad8a59",
   "metadata": {},
   "source": [
    "In Python, hash functions are mostly abstracted from you. That means you usually don’t need to know the exact algorithm used under the hood. Python handles it internally when you call the built-in hash() function."
   ]
  },
  {
   "cell_type": "code",
   "execution_count": 42,
   "id": "5f6eddbb",
   "metadata": {},
   "outputs": [
    {
     "data": {
      "text/plain": [
       "89"
      ]
     },
     "execution_count": 42,
     "metadata": {},
     "output_type": "execute_result"
    }
   ],
   "source": [
    "# generating hash value of an object\n",
    "hash(89)"
   ]
  },
  {
   "cell_type": "code",
   "execution_count": 43,
   "id": "e08ba270",
   "metadata": {},
   "outputs": [
    {
     "data": {
      "text/plain": [
       "-6226758453999805989"
      ]
     },
     "execution_count": 43,
     "metadata": {},
     "output_type": "execute_result"
    }
   ],
   "source": [
    "hash(\"42\")"
   ]
  },
  {
   "cell_type": "code",
   "execution_count": 44,
   "id": "b8cb7b65",
   "metadata": {},
   "outputs": [
    {
     "data": {
      "text/plain": [
       "301850336790104621"
      ]
     },
     "execution_count": 44,
     "metadata": {},
     "output_type": "execute_result"
    }
   ],
   "source": [
    "hash(\"Ujjwal\")"
   ]
  },
  {
   "cell_type": "markdown",
   "id": "54c9a42d",
   "metadata": {},
   "source": [
    "🔁 Step-by-Step: How Sets Work Internally in Python\n",
    "\n",
    "1. **Each Element is Hashed**\n",
    "\n",
    "When you add a value to a set (e.g. `myset.add(\"apple\")`):\n",
    "\n",
    "* Python calls `hash(\"apple\")` → returns a number (say `123456789`).\n",
    "* This **hash value** is like a digital fingerprint of `\"apple\"`.\n",
    "\n",
    "---\n",
    "\n",
    "2. **Hash Value → Index in an Array**\n",
    "\n",
    "* Internally, Python maintains an **array (table)** to store all set elements.\n",
    "* The hash value is **reduced to a valid index** using **modulo**:\n",
    "\n",
    "```python\n",
    "index = hash(\"apple\") % size_of_table\n",
    "```\n",
    "\n",
    "If the internal table has 8 slots:\n",
    "\n",
    "```python\n",
    "index = 123456789 % 8 = 5\n",
    "```\n",
    "\n",
    "So `\"apple\"` is intended to be stored at index 5.\n",
    "\n",
    "---\n",
    "\n",
    "3. **Collision Handling: Open Addressing**\n",
    "\n",
    "* Suppose two elements hash to the same index.\n",
    "* Python uses **open addressing**: it looks at the next empty slot in the array.\n",
    "\n",
    "Example:\n",
    "\n",
    "* `\"apple\"` hashes to index 5.\n",
    "* `\"banana\"` also hashes to index 5.\n",
    "* So `\"banana\"` is stored at **index 6**, the next available slot.\n",
    "\n",
    "This process is called **probing**.\n",
    "\n",
    "---\n",
    "\n",
    "4. **Checking Membership (`in`)**\n",
    "\n",
    "When you do:\n",
    "\n",
    "```python\n",
    "\"apple\" in myset\n",
    "```\n",
    "\n",
    "Python:\n",
    "\n",
    "1. Hashes `\"apple\"` to get an index.\n",
    "2. Jumps directly to that index.\n",
    "3. Checks if the slot holds `\"apple\"` (using `==`).\n",
    "4. If not (due to a collision), it probes nearby slots until it either finds `\"apple\"` or an empty slot (which means it's not present).\n",
    "\n",
    "This is why **lookup is O(1) on average**, even for large sets.\n",
    "\n",
    "---\n",
    "\n",
    "5. **No Duplicates**\n",
    "\n",
    "Before inserting, Python checks if an element already exists using its hash and `__eq__()` method. If found, it won't insert it again.\n",
    "\n",
    "---\n",
    "\n",
    "6. **Resizing**\n",
    "\n",
    "* If too many elements are added (and the table is too full), Python resizes the internal array (usually doubles it).\n",
    "* All existing elements are **rehashed and reinserted** into the new larger array.\n",
    "\n",
    "This keeps operations fast.\n",
    "\n",
    "---\n",
    "\n",
    "## ✅ Recap\n",
    "\n",
    "| Concept        | What Happens                                |\n",
    "| -------------- | ------------------------------------------- |\n",
    "| **Hashing**    | `hash(obj)` gives an integer                |\n",
    "| **Indexing**   | `index = hash(obj) % table_size`            |\n",
    "| **Collision**  | Resolved by probing (looking for next free) |\n",
    "| **Membership** | Hash, then probe to check presence          |\n",
    "| **Resize**     | Happens when too full; elements rehashed    |\n",
    "\n"
   ]
  },
  {
   "cell_type": "code",
   "execution_count": 45,
   "id": "3dd722e7",
   "metadata": {},
   "outputs": [
    {
     "name": "stdout",
     "output_type": "stream",
     "text": [
      "People: {'Idrish', 'Archi', 'Jay'}\n",
      "\n",
      "Set after adding element: {1, 2, 'Archi', 3, 4, 5, 'Daxit', 'Idrish', 'Jay'}\n"
     ]
    }
   ],
   "source": [
    "# A Python program to\n",
    "# demonstrate adding elements\n",
    "# in a set\n",
    "\n",
    "# Creating a Set\n",
    "people = {\"Jay\", \"Idrish\", \"Archi\"}\n",
    "\n",
    "print(\"People:\", end = \" \")\n",
    "print(people)\n",
    "\n",
    "# This will add Daxit\n",
    "# in the set\n",
    "people.add(\"Daxit\")\n",
    "\n",
    "# Adding elements to the\n",
    "# set using iterator\n",
    "for i in range(1, 6):\n",
    "    people.add(i)\n",
    "\n",
    "print(\"\\nSet after adding element:\", end = \" \")\n",
    "print(people)"
   ]
  },
  {
   "cell_type": "markdown",
   "id": "b48d3493",
   "metadata": {},
   "source": [
    "**Union operation on Python Sets**\n",
    "\n",
    "Two sets can be merged using union() function or | operator. Both Hash Table values are accessed and traversed with merge operation perform on them to combine the elements, at the same time duplicates are removed. The Time Complexity of this is O(len(s1) + len(s2)) where s1 and s2 are two sets whose union needs to be done."
   ]
  },
  {
   "cell_type": "code",
   "execution_count": 46,
   "id": "5b093314",
   "metadata": {},
   "outputs": [
    {
     "name": "stdout",
     "output_type": "stream",
     "text": [
      "Union using union() function\n",
      "{'Archil', 'Arjun', 'Karan', 'Idrish', 'Jay'}\n",
      "\n",
      "Union using '|' operator\n",
      "{'Archil', 'Raju', 'Idrish', 'Deepanshu', 'Jay'}\n"
     ]
    }
   ],
   "source": [
    "# Python Program to\n",
    "# demonstrate union of\n",
    "# two sets\n",
    "\n",
    "people = {\"Jay\", \"Idrish\", \"Archil\"}\n",
    "vampires = {\"Karan\", \"Arjun\"}\n",
    "dracula = {\"Deepanshu\", \"Raju\"}\n",
    "\n",
    "# Union using union()\n",
    "# function\n",
    "population = people.union(vampires)\n",
    "\n",
    "print(\"Union using union() function\")\n",
    "print(population)\n",
    "\n",
    "# Union using \"|\"\n",
    "# operator\n",
    "population = people|dracula\n",
    "\n",
    "print(\"\\nUnion using '|' operator\")\n",
    "print(population)"
   ]
  },
  {
   "cell_type": "markdown",
   "id": "7727518f",
   "metadata": {},
   "source": [
    "**Intersection operation on Python Sets**\n",
    "\n",
    "This can be done through intersection() or & operator. Common Elements are selected. They are similar to iteration over the Hash lists and combining the same values on both the Table. Time Complexity of this is O(min(len(s1), len(s2)) where s1 and s2 are two sets whose union needs to be done."
   ]
  },
  {
   "cell_type": "code",
   "execution_count": 47,
   "id": "1da6a8aa",
   "metadata": {},
   "outputs": [
    {
     "name": "stdout",
     "output_type": "stream",
     "text": [
      "Set 1: {0, 1, 2, 3, 4}\n",
      "Set 2: {3, 4, 5, 6, 7, 8}\n",
      "\n",
      "Intersection using intersection() function\n",
      "{3, 4}\n",
      "\n",
      "Intersection using '&' operator\n",
      "{3, 4}\n"
     ]
    }
   ],
   "source": [
    "# Python program to\n",
    "# demonstrate intersection\n",
    "# of two sets\n",
    "\n",
    "set1 = set()\n",
    "set2 = set()\n",
    "\n",
    "for i in range(5):\n",
    "    set1.add(i)\n",
    "\n",
    "for i in range(3,9):\n",
    "    set2.add(i)\n",
    "\n",
    "print(\"Set 1:\", end = \" \")\n",
    "print(set1)\n",
    "print(\"Set 2:\", end = \" \")  \n",
    "print(set2)\n",
    "# Intersection using\n",
    "# intersection() function\n",
    "set3 = set1.intersection(set2)\n",
    "\n",
    "print(\"\\nIntersection using intersection() function\")\n",
    "print(set3)\n",
    "\n",
    "# Intersection using\n",
    "# \"&\" operator\n",
    "set3 = set1 & set2\n",
    "\n",
    "print(\"\\nIntersection using '&' operator\")\n",
    "print(set3)"
   ]
  },
  {
   "cell_type": "markdown",
   "id": "ae8ce9c0",
   "metadata": {},
   "source": [
    "**Finding Differences of Sets in Python**\n",
    "\n",
    "To find differences between sets. Similar to finding differences in the linked list. This is done through difference() or – operator. Time complexity of finding difference s1 – s2 is O(len(s1))"
   ]
  },
  {
   "cell_type": "code",
   "execution_count": 48,
   "id": "5f2bf926",
   "metadata": {},
   "outputs": [
    {
     "name": "stdout",
     "output_type": "stream",
     "text": [
      "Set 1: {0, 1, 2, 3, 4}\n",
      "Set 2: {3, 4, 5, 6, 7, 8}\n",
      "\n",
      "Difference of two sets using difference() function\n",
      "{0, 1, 2}\n",
      "\n",
      "Difference of two sets using '-' operator\n",
      "{0, 1, 2}\n"
     ]
    }
   ],
   "source": [
    "# Python program to\n",
    "# demonstrate difference\n",
    "# of two sets\n",
    "\n",
    "set1 = set()\n",
    "set2 = set()\n",
    "\n",
    "for i in range(5):\n",
    "    set1.add(i)\n",
    "\n",
    "for i in range(3,9):\n",
    "    set2.add(i)\n",
    "\n",
    "print(\"Set 1:\", end = \" \")\n",
    "print(set1)\n",
    "print(\"Set 2:\", end = \" \")  \n",
    "print(set2)\n",
    "\n",
    "# Difference of two sets\n",
    "# using difference() function\n",
    "set3 = set1.difference(set2)\n",
    "\n",
    "print(\"\\nDifference of two sets using difference() function\")\n",
    "print(set3)\n",
    "\n",
    "# Difference of two sets\n",
    "# using '-' operator\n",
    "set3 = set1 - set2\n",
    "\n",
    "print(\"\\nDifference of two sets using '-' operator\")\n",
    "print(set3)"
   ]
  },
  {
   "cell_type": "markdown",
   "id": "2ad11561",
   "metadata": {},
   "source": [
    "**Clearing Python Sets**\n",
    "\n",
    "Set Clear() method empties the whole set inplace."
   ]
  },
  {
   "cell_type": "code",
   "execution_count": 49,
   "id": "c228c09f",
   "metadata": {},
   "outputs": [
    {
     "name": "stdout",
     "output_type": "stream",
     "text": [
      "Initial set\n",
      "{1, 2, 3, 4, 5, 6}\n",
      "\n",
      "Set after using clear() function\n",
      "set()\n"
     ]
    }
   ],
   "source": [
    "# Python program to\n",
    "# demonstrate clearing\n",
    "# of set\n",
    "\n",
    "set1 = {1,2,3,4,5,6}\n",
    "\n",
    "print(\"Initial set\")\n",
    "print(set1)\n",
    "\n",
    "# This method will remove\n",
    "# all the elements of the set\n",
    "set1.clear()\n",
    "\n",
    "print(\"\\nSet after using clear() function\")\n",
    "print(set1)"
   ]
  },
  {
   "cell_type": "markdown",
   "id": "6ba1a498",
   "metadata": {},
   "source": [
    "However, there are two major pitfalls in Python sets: \n",
    "\n",
    "    The set doesn’t maintain elements in any particular order.\n",
    "    Only instances of immutable types can be added to a Python set."
   ]
  }
 ],
 "metadata": {
  "kernelspec": {
   "display_name": "base",
   "language": "python",
   "name": "python3"
  },
  "language_info": {
   "codemirror_mode": {
    "name": "ipython",
    "version": 3
   },
   "file_extension": ".py",
   "mimetype": "text/x-python",
   "name": "python",
   "nbconvert_exporter": "python",
   "pygments_lexer": "ipython3",
   "version": "3.10.13"
  }
 },
 "nbformat": 4,
 "nbformat_minor": 5
}
