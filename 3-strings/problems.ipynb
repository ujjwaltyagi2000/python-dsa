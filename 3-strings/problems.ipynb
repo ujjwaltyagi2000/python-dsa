{
 "cells": [
  {
   "cell_type": "markdown",
   "id": "3b6ea402",
   "metadata": {},
   "source": [
    "# **Practice Problems on List**"
   ]
  },
  {
   "cell_type": "markdown",
   "id": "471ecd04",
   "metadata": {},
   "source": [
    "## 1. Reverse a String\n",
    "\n",
    "You are given a string s, and your task is to reverse the string.\n",
    "\n",
    "Examples:\n",
    "\n",
    "    Input: s = \"Geeks\"\n",
    "    Output: \"skeeG\"\n",
    "\n",
    "    Input: s = \"for\"\n",
    "    Output: \"rof\"\n",
    "\n",
    "    Input: s = \"a\"\n",
    "    Output: \"a\"\n",
    "\n",
    "Constraints:\n",
    "\n",
    "1 <= s.size() <= 10<sup>6</sup>\n",
    "s contains only alphabetic characters (both uppercase and lowercase)."
   ]
  },
  {
   "cell_type": "code",
   "execution_count": 2,
   "id": "49050106",
   "metadata": {},
   "outputs": [
    {
     "name": "stdout",
     "output_type": "stream",
     "text": [
      "olleh\n"
     ]
    }
   ],
   "source": [
    "class Solution:\n",
    "     def reverseString(self, s: str) -> str:\n",
    "        # code here\n",
    "        return s[::-1]\n",
    "\n",
    "print(Solution().reverseString(\"hello\"))"
   ]
  },
  {
   "cell_type": "code",
   "execution_count": 4,
   "id": "a714d348",
   "metadata": {},
   "outputs": [
    {
     "name": "stdout",
     "output_type": "stream",
     "text": [
      "olleh\n"
     ]
    }
   ],
   "source": [
    "# without using [::-1]\n",
    "class Solution:\n",
    "     def reverseString(self, s: str) -> str:\n",
    "        # code here\n",
    "        return ''.join(reversed(s))\n",
    "\n",
    "print(Solution().reverseString(\"hello\"))"
   ]
  },
  {
   "cell_type": "code",
   "execution_count": 6,
   "id": "ef9b1c02",
   "metadata": {},
   "outputs": [
    {
     "name": "stdout",
     "output_type": "stream",
     "text": [
      "olleh\n"
     ]
    }
   ],
   "source": [
    "# without using slicing and reversed\n",
    "class Solution:\n",
    "    def reverseString(self, s: str) -> str:\n",
    "        reverse = \"\"\n",
    "        for char in s:\n",
    "            reverse = char + reverse\n",
    "        return reverse\n",
    "\n",
    "print(Solution().reverseString(\"hello\"))"
   ]
  },
  {
   "cell_type": "markdown",
   "id": "1314229a",
   "metadata": {},
   "source": [
    "## 2. Check for Binary String\n",
    "\n",
    "Given a non-empty sequence of characters s, return true if sequence is Binary, else return false.\n",
    "\n",
    "Examples:\n",
    "\n",
    "    Input: s = \"101\"\n",
    "    Output: true\n",
    "    Explanation: Since string contains only '0' and '1', output is true.\n",
    "\n",
    "    Input: s = \"75\"\n",
    "    Output: false\n",
    "    Explanation: Since string contains digits other than '0' and '1', output is false.\n",
    "\n",
    "Constraints:\n",
    "\n",
    "1 <= s.size() <= 10<sup>5</sup>"
   ]
  },
  {
   "cell_type": "code",
   "execution_count": 8,
   "id": "8e367ddf",
   "metadata": {},
   "outputs": [
    {
     "name": "stdout",
     "output_type": "stream",
     "text": [
      "True\n",
      "False\n"
     ]
    }
   ],
   "source": [
    "# Return true if s is binary, else false\n",
    "class Solution:\n",
    "    def isBinary(self, s):\n",
    "        #code here\n",
    "        for char in s:\n",
    "            if char != '0' and char != '1':\n",
    "                return False\n",
    "        return True\n",
    "\n",
    "print(Solution().isBinary(\"1010101\"))\n",
    "print(Solution().isBinary(\"1010101a\"))"
   ]
  },
  {
   "cell_type": "code",
   "execution_count": 10,
   "id": "60cea672",
   "metadata": {},
   "outputs": [
    {
     "name": "stdout",
     "output_type": "stream",
     "text": [
      "True\n",
      "False\n"
     ]
    }
   ],
   "source": [
    "class Solution:\n",
    "    def isBinary(self, s):\n",
    "        for char in s:\n",
    "            if char not in ('0','1'):\n",
    "                return False    \n",
    "        return True\n",
    "\n",
    "\n",
    "print(Solution().isBinary(\"1010101\"))\n",
    "print(Solution().isBinary(\"1010101a\"))"
   ]
  },
  {
   "cell_type": "markdown",
   "id": "b9be5fb3",
   "metadata": {},
   "source": [
    "## 3. Convert Sentence to Camel Case\n",
    "\n",
    "Given a sentence s, your task is to remove all spaces and convert it to Camel Case. In Camel Case, words are joined without spaces, the first word keeps its original case, and each subsequent word starts with an uppercase letter.\n",
    "\n",
    "Note: It is guaranteed that the sample test cases don't contain leading spaces.\n",
    "\n",
    "Examples:\n",
    "\n",
    "    Input: s = \"i got intern at geeksforgeeks\"\n",
    "    Output: \"iGotInternAtGeeksforgeeks\"\n",
    "    Explanation: All spaces are removed and each word starts with a capital letter, except the first word which retains its original capitalization.\n",
    "\n",
    "    Input: s = \"here comes the garden\"\n",
    "    Output: \"hereComesTheGarden\"\n",
    "    Explanation: Spaces are removed and each word after the first is capitalized.\n",
    "\n",
    "    Input: s = \"coding is fun\"\n",
    "    Output: \"codingIsFun\"\n",
    "    Explanation: Spaces are removed, the first word retains its original case, and each subsequent word starts with a capital letter.\n",
    "\n",
    "Constraints:\n",
    "\n",
    "1 <= s.size() <= 10<sup>6</sup>"
   ]
  },
  {
   "cell_type": "code",
   "execution_count": null,
   "id": "cdc94e7c",
   "metadata": {},
   "outputs": [],
   "source": [
    "class Solution:\n",
    "    # Function to convert the given string to Camel Case\n",
    "    def convertToCamelCase(self, s):\n",
    "        # code here\n",
    "        word_list = s.split()\n",
    "        \n",
    "        num = len(word_list)\n",
    "        camel_string = \"\"\n",
    "\n",
    "        for i in range(0,num):\n",
    "\n",
    "            word = word_list[i]\n",
    "\n",
    "            if i%2==0:\n",
    "                word = word.lower()\n",
    "                camel_string += word\n",
    "\n",
    "\n",
    "            elif i%2!=0:\n",
    "                top_char = word[0]\n",
    "                top_char = top_char.upper()\n",
    "                word = top_char + word[1:]\n",
    "                camel_string += word\n",
    "        \n",
    "        return camel_string"
   ]
  },
  {
   "cell_type": "code",
   "execution_count": 18,
   "id": "13aebf21",
   "metadata": {},
   "outputs": [
    {
     "name": "stdout",
     "output_type": "stream",
     "text": [
      "HelloMyNameIsUjjwal\n",
      "aarambhHaiPrachand\n"
     ]
    }
   ],
   "source": [
    "sol = Solution()\n",
    "print(sol.convertToCamelCase(\"Hello my name is ujjwal\"))\n",
    "print(sol.convertToCamelCase(\"aarambh hai prachand\"))"
   ]
  },
  {
   "cell_type": "markdown",
   "id": "e0b0154b",
   "metadata": {},
   "source": [
    "The above code was written as a result of reading the question incorrectly. But we'll leave the above code as is."
   ]
  },
  {
   "cell_type": "code",
   "execution_count": 16,
   "id": "6be29d7e",
   "metadata": {},
   "outputs": [],
   "source": [
    "class Solution():\n",
    "    def convertToCamelCase(self, s):\n",
    "        word_list = s.split()\n",
    "        camel_string = \"\"\n",
    "        num = len(word_list)\n",
    "\n",
    "        for i in range(0, num):\n",
    "            word = word_list[i]\n",
    "            if i == 0:\n",
    "                camel_string += word\n",
    "            else:\n",
    "                camel_string += word[0].upper() + word[1:].lower()\n",
    "\n",
    "        return camel_string"
   ]
  },
  {
   "cell_type": "code",
   "execution_count": 17,
   "id": "e5e94695",
   "metadata": {},
   "outputs": [
    {
     "name": "stdout",
     "output_type": "stream",
     "text": [
      "HelloMyNameIsUjjwal\n",
      "aarambhHaiPrachand\n"
     ]
    }
   ],
   "source": [
    "sol = Solution()\n",
    "print(sol.convertToCamelCase(\"Hello my name is ujjwal\"))\n",
    "print(sol.convertToCamelCase(\"aarambh hai prachand\"))"
   ]
  },
  {
   "cell_type": "markdown",
   "id": "785efabd",
   "metadata": {},
   "source": [
    "## 4. Panagram Checking\n",
    "\n",
    "Given a string s, check if it is a \"Panagram\" or not. Return true if the string is a Panagram, else return false.\n",
    "\n",
    "A \"Panagram\" is a sentence containing every letter in the English Alphabet either in lowercase or Uppercase.\n",
    "\n",
    "Examples:\n",
    "\n",
    "    Input: s = \"Bawds jog, flick quartz, vex nymph\"\n",
    "    Output: true\n",
    "    Explanation: In the given string, there are all the letters of the English alphabet. Hence, the output is true.\n",
    "\n",
    "    Input: s = \"sdfs\"\n",
    "    Output: false\n",
    "    Explanation: In the given string, there aren't all the letters present in the English alphabet. Hence, the output is false.\n",
    "\n",
    "Constraints:\n",
    "\n",
    "1 ≤ |s| ≤ 10<sup>4</sup>\n",
    "\n",
    "s consists of lowercase and uppercase letters"
   ]
  },
  {
   "cell_type": "code",
   "execution_count": 36,
   "id": "d2380968",
   "metadata": {},
   "outputs": [],
   "source": [
    "class Solution:\n",
    "    \n",
    "    #Function to check if a string is Pangram or not.\n",
    "    def checkPangram(self,s):\n",
    "        #code here\n",
    "        alphabets = {'a','b','c','d','e','f','g','h','i','j','k','l','m','n','o','p','q','r','s','t','u','v','w','x','y','z'}\n",
    "        s = s.lower()\n",
    "        s_alpha = set()\n",
    "        for char in s:\n",
    "            if char.isalpha() and char not in s_alpha:\n",
    "                s_alpha.add(char)\n",
    "\n",
    "        return alphabets == s_alpha\n"
   ]
  },
  {
   "cell_type": "code",
   "execution_count": 35,
   "id": "1c34f1d1",
   "metadata": {},
   "outputs": [
    {
     "data": {
      "text/plain": [
       "False"
      ]
     },
     "execution_count": 35,
     "metadata": {},
     "output_type": "execute_result"
    }
   ],
   "source": [
    "sol = Solution()\n",
    "sol.checkPangram(\"hello\")"
   ]
  },
  {
   "cell_type": "markdown",
   "id": "52149bf1",
   "metadata": {},
   "source": [
    "## 5. Palindrome String\n",
    "\n",
    "You are given a string s. Your task is to determine if the string is a palindrome. A string is considered a palindrome if it reads the same forwards and backwards.\n",
    "\n",
    "Examples :\n",
    "\n",
    "    Input: s = \"abba\"\n",
    "    Output: true\n",
    "    Explanation: \"abba\" reads the same forwards and backwards, so it is a palindrome.\n",
    "\n",
    "    Input: s = \"abc\" \n",
    "    Output: false\n",
    "    Explanation: \"abc\" does not read the same forwards and backwards, so it is not a palindrome.\n",
    "\n",
    "    Input: s = \"a\"\n",
    "    Output: true\n",
    "    Explanation: A single-character string is always a palindrome.\n",
    "\n",
    "    Input: s = \"acbca\"\n",
    "    Output: true\n",
    "    Explanation: \"acbca\" reads the same forwards and backwards, so it is a palindrome.\n",
    "\n",
    "Constraints:\n",
    "\n",
    "1 ≤ s.size() ≤ 10<sup>6</sup>\n",
    "\n",
    "The string s contains only lowercase letters (a-z)."
   ]
  },
  {
   "cell_type": "code",
   "execution_count": null,
   "id": "6340124c",
   "metadata": {},
   "outputs": [],
   "source": [
    "#User function Template for python3\n",
    "class Solution:\n",
    "    def isPalindrome(self, s: str) -> bool:\n",
    "\t\t# code here\n",
    "        # s = s.lower()\n",
    "        reverse = \"\"\n",
    "        for char in s:\n",
    "            reverse = char + reverse\n",
    "        \n",
    "        return reverse == s"
   ]
  },
  {
   "cell_type": "code",
   "execution_count": 59,
   "id": "2c42eba5",
   "metadata": {},
   "outputs": [
    {
     "name": "stdout",
     "output_type": "stream",
     "text": [
      "True\n",
      "True\n",
      "False\n"
     ]
    }
   ],
   "source": [
    "sol = Solution()\n",
    "print(sol.isPalindrome(\"naman\"))\n",
    "print(sol.isPalindrome(\"131\"))\n",
    "print(sol.isPalindrome(\"keshav\"))"
   ]
  },
  {
   "cell_type": "code",
   "execution_count": 61,
   "id": "eade1dd4",
   "metadata": {},
   "outputs": [],
   "source": [
    "# faster version\n",
    "class Solution():\n",
    "    def isPalindrome(self, s:str) -> bool:\n",
    "        return s == s[::-1]"
   ]
  },
  {
   "cell_type": "code",
   "execution_count": 62,
   "id": "a9b12c70",
   "metadata": {},
   "outputs": [
    {
     "name": "stdout",
     "output_type": "stream",
     "text": [
      "True\n",
      "True\n",
      "False\n"
     ]
    }
   ],
   "source": [
    "sol = Solution()\n",
    "print(sol.isPalindrome(\"naman\"))\n",
    "print(sol.isPalindrome(\"131\"))\n",
    "print(sol.isPalindrome(\"keshav\"))"
   ]
  }
 ],
 "metadata": {
  "kernelspec": {
   "display_name": "base",
   "language": "python",
   "name": "python3"
  },
  "language_info": {
   "codemirror_mode": {
    "name": "ipython",
    "version": 3
   },
   "file_extension": ".py",
   "mimetype": "text/x-python",
   "name": "python",
   "nbconvert_exporter": "python",
   "pygments_lexer": "ipython3",
   "version": "3.10.13"
  }
 },
 "nbformat": 4,
 "nbformat_minor": 5
}
