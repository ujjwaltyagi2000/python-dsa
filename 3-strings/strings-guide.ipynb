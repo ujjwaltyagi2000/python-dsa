{
 "cells": [
  {
   "cell_type": "markdown",
   "id": "43077332",
   "metadata": {},
   "source": [
    "# **Strings**\n",
    "A string is a sequence of characters. Python treats anything inside quotes as a string. This includes letters, numbers, and symbols. Python has no character data type so single character is a string of length 1."
   ]
  },
  {
   "cell_type": "code",
   "execution_count": 1,
   "id": "3d0f04c8",
   "metadata": {},
   "outputs": [
    {
     "name": "stdout",
     "output_type": "stream",
     "text": [
      "j\n",
      "UUjjwal\n"
     ]
    }
   ],
   "source": [
    "s = \"Ujjwal\"\n",
    "\n",
    "print(s[1]) # access 2nd char\n",
    "s1 = s[0] + s # update\n",
    "# s1 = s + s[0] # update\n",
    "# both lines will give different outputs\n",
    "print(s1) # print"
   ]
  },
  {
   "cell_type": "code",
   "execution_count": 2,
   "id": "72c0106e",
   "metadata": {},
   "outputs": [
    {
     "name": "stdout",
     "output_type": "stream",
     "text": [
      "\n",
      "Ujjwal\n"
     ]
    }
   ],
   "source": [
    "# creating a string\n",
    "s1 = ''\n",
    "s2 = \"Ujjwal\"\n",
    "print(s1)\n",
    "print(s2)\n"
   ]
  },
  {
   "cell_type": "code",
   "execution_count": 3,
   "id": "15924ec8",
   "metadata": {},
   "outputs": [
    {
     "name": "stdout",
     "output_type": "stream",
     "text": [
      "Hello, My name is Ujjwal.\n",
      "I love working with AI\n",
      "I'm a \n",
      "Geek\n"
     ]
    }
   ],
   "source": [
    "# multi - line string\n",
    "s = \"\"\"Hello, My name is Ujjwal.\n",
    "I love working with AI\"\"\"\n",
    "print(s)\n",
    "\n",
    "s = '''I'm a \n",
    "Geek'''\n",
    "print(s)"
   ]
  },
  {
   "cell_type": "code",
   "execution_count": 4,
   "id": "4f2bbab8",
   "metadata": {},
   "outputs": [
    {
     "name": "stdout",
     "output_type": "stream",
     "text": [
      "U\n",
      "a\n"
     ]
    }
   ],
   "source": [
    "# accessing characters\n",
    "s = \"Ujjwal Tyagi\"\n",
    "\n",
    "# Accesses first character: 'G'\n",
    "print(s[0])  \n",
    "\n",
    "# Accesses 5th character: 's'\n",
    "print(s[4])"
   ]
  },
  {
   "cell_type": "code",
   "execution_count": 5,
   "id": "c9edd6e4",
   "metadata": {},
   "outputs": [
    {
     "name": "stdout",
     "output_type": "stream",
     "text": [
      "j\n",
      "T\n"
     ]
    }
   ],
   "source": [
    "s = \"Ujjwal Tyagi\"\n",
    "\n",
    "# Accesses 3rd character: 'k'\n",
    "print(s[-10])  \n",
    "\n",
    "# Accesses 5th character from end: 'G'\n",
    "print(s[-5])"
   ]
  },
  {
   "cell_type": "code",
   "execution_count": 6,
   "id": "05fec35d",
   "metadata": {},
   "outputs": [
    {
     "name": "stdout",
     "output_type": "stream",
     "text": [
      "jjw\n",
      "Ujj\n",
      "wal Tyagi\n",
      "igayT lawjjU\n"
     ]
    }
   ],
   "source": [
    "# string slicing\n",
    "s = \"Ujjwal Tyagi\"\n",
    "\n",
    "# Retrieves characters from index 1 to 3: 'eek'\n",
    "print(s[1:4])  \n",
    "\n",
    "# Retrieves characters from beginning to index 2: 'Gee'\n",
    "print(s[:3])   \n",
    "\n",
    "# Retrieves characters from index 3 to the end: 'ksforGeeks'\n",
    "print(s[3:])   \n",
    "\n",
    "# Reverse a string\n",
    "print(s[::-1])"
   ]
  },
  {
   "cell_type": "code",
   "execution_count": 15,
   "id": "84e0067d",
   "metadata": {},
   "outputs": [
    {
     "name": "stdout",
     "output_type": "stream",
     "text": [
      "Ijjwal Tyagi\n"
     ]
    }
   ],
   "source": [
    "# string immutability\n",
    "# once created, strings cannot be changed\n",
    "# they can only be manipulated using concatenation, slicing, or formatting\n",
    "s = \"Ujjwal Tyagi\"\n",
    "\n",
    "# s[0] = 'I' # not allowed\n",
    "# you can tackle it by doing this:\n",
    "\n",
    "s = 'I' + s[1:]\n",
    "# this creates a new string\n",
    "print(s)"
   ]
  },
  {
   "cell_type": "code",
   "execution_count": 17,
   "id": "5c15ead2",
   "metadata": {},
   "outputs": [],
   "source": [
    "# deleting a string\n",
    "s = \"Ujjwal\"\n",
    "\n",
    "# Deletes entire string\n",
    "del s\n",
    "# print(s)"
   ]
  },
  {
   "cell_type": "code",
   "execution_count": 19,
   "id": "a25b80be",
   "metadata": {},
   "outputs": [
    {
     "name": "stdout",
     "output_type": "stream",
     "text": [
      "Hello everyone\n",
      "hey everyone\n"
     ]
    }
   ],
   "source": [
    "# updating a string\n",
    "s = \"hello everyone\"\n",
    "\n",
    "# Updating by creating a new string\n",
    "s1 = \"H\" + s[1:]\n",
    "\n",
    "# replacnig \"hello\" with \"hey\"\n",
    "s2 = s.replace(\"hello\", \"hey\")\n",
    "print(s1)\n",
    "print(s2)"
   ]
  },
  {
   "cell_type": "code",
   "execution_count": null,
   "id": "1e786358",
   "metadata": {},
   "outputs": [],
   "source": [
    "# s = \"hello geeks\"\n",
    "\n",
    "# Updating by creating a new string\n",
    "s1 = \"H\" + s[1:]\n",
    "\n",
    "# replacnig \"geeks\" with \"GeeksforGeeks\"\n",
    "s2 = s.replace(\"geeks\", \"GeeksforGeeks\")\n",
    "print(s1)\n",
    "print(s2)"
   ]
  },
  {
   "cell_type": "markdown",
   "id": "05f47def",
   "metadata": {},
   "source": [
    "### String methods"
   ]
  },
  {
   "cell_type": "code",
   "execution_count": 22,
   "id": "7a44d5f9",
   "metadata": {},
   "outputs": [
    {
     "name": "stdout",
     "output_type": "stream",
     "text": [
      "12\n"
     ]
    }
   ],
   "source": [
    "# len()\n",
    "s = \"Ujjwal Tyagi\"\n",
    "print(len(s))\n"
   ]
  },
  {
   "cell_type": "code",
   "execution_count": 23,
   "id": "e6a4ccd9",
   "metadata": {},
   "outputs": [
    {
     "name": "stdout",
     "output_type": "stream",
     "text": [
      "HELLO WORLD\n",
      "hello world\n"
     ]
    }
   ],
   "source": [
    "# upper, lower\n",
    "\n",
    "s = \"Hello World\"\n",
    "\n",
    "print(s.upper())   # output: HELLO WORLD\n",
    "\n",
    "print(s.lower())   # output: hello world"
   ]
  },
  {
   "cell_type": "code",
   "execution_count": null,
   "id": "924c58d1",
   "metadata": {},
   "outputs": [
    {
     "name": "stdout",
     "output_type": "stream",
     "text": [
      "Gfg\n",
      "Python       is        fun\n",
      "       Python       is        awesome        \n"
     ]
    }
   ],
   "source": [
    "# strip() and replace()\n",
    "\n",
    "# The strip() method removes any leading, and trailing whitespaces.\n",
    "\n",
    "# Leading means at the beginning of the string, trailing means at the end.\n",
    "\n",
    "# You can specify which character(s) to remove, if not, any whitespaces will be removed.\n",
    "\n",
    "s = \"   Gfg   \"\n",
    "\n",
    "# Removes spaces from both ends\n",
    "print(s.strip())    \n",
    "\n",
    "s1 = \"       Python       is        fun        \"\n",
    "print(s1.strip())\n",
    "# only strips away leading and trailing whitespaces\n",
    "\n",
    "\n",
    "# replace(old, new) replaces all occurrences of a specified substring with another.\n",
    "\n",
    "print(s1.replace(\"fun\", \"awesome\"))\n",
    "# takes original s1 as input and replaces \"fun\" with \"awesome\""
   ]
  },
  {
   "cell_type": "code",
   "execution_count": 36,
   "id": "b71a9e18",
   "metadata": {},
   "outputs": [
    {
     "name": "stdout",
     "output_type": "stream",
     "text": [
      "banana\n"
     ]
    }
   ],
   "source": [
    "txt = \",,,,,rrttgg.....banana....rrr\"\n",
    "\n",
    "x = txt.strip(\",.grt\")\n",
    "\n",
    "print(x)"
   ]
  },
  {
   "cell_type": "code",
   "execution_count": 39,
   "id": "f5d3861e",
   "metadata": {},
   "outputs": [
    {
     "name": "stdout",
     "output_type": "stream",
     "text": [
      "Hello World\n"
     ]
    }
   ],
   "source": [
    "# concatenating and repeating strings\n",
    "s1 = \"Hello\"\n",
    "s2 = \"World\"\n",
    "s3 = s1 + \" \" + s2\n",
    "print(s3)"
   ]
  },
  {
   "cell_type": "code",
   "execution_count": 40,
   "id": "fe328374",
   "metadata": {},
   "outputs": [
    {
     "name": "stdout",
     "output_type": "stream",
     "text": [
      "Hello Hello Hello \n"
     ]
    }
   ],
   "source": [
    "s = \"Hello \"\n",
    "print(s * 3)"
   ]
  },
  {
   "cell_type": "code",
   "execution_count": 42,
   "id": "8b540dcf",
   "metadata": {},
   "outputs": [
    {
     "name": "stdout",
     "output_type": "stream",
     "text": [
      "True\n",
      "False\n"
     ]
    }
   ],
   "source": [
    "# using in for string membership testing\n",
    "s = \"Ujjwal Tyagi\"\n",
    "print(\"Tyagi\" in s)\n",
    "print(\"Sharma\" in s)"
   ]
  }
 ],
 "metadata": {
  "kernelspec": {
   "display_name": "base",
   "language": "python",
   "name": "python3"
  },
  "language_info": {
   "codemirror_mode": {
    "name": "ipython",
    "version": 3
   },
   "file_extension": ".py",
   "mimetype": "text/x-python",
   "name": "python",
   "nbconvert_exporter": "python",
   "pygments_lexer": "ipython3",
   "version": "3.10.13"
  }
 },
 "nbformat": 4,
 "nbformat_minor": 5
}
