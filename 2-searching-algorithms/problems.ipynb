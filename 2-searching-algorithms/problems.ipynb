{
 "cells": [
  {
   "cell_type": "markdown",
   "id": "a3c9fda0",
   "metadata": {},
   "source": [
    "# **Practice Problems on search algorithms**"
   ]
  },
  {
   "cell_type": "markdown",
   "id": "f3e06271",
   "metadata": {},
   "source": [
    "## 1. Second Largest\n",
    "\n",
    "Given an array of positive integers arr[], return the second largest element from the array. If the second largest element doesn't exist then return -1.\n",
    "\n",
    "Note: The second largest element should not be equal to the largest element.\n",
    "\n",
    "Examples:\n",
    "\n",
    "    Input: arr[] = [12, 35, 1, 10, 34, 1]\n",
    "    Output: 34\n",
    "    Explanation: The largest element of the array is 35 and the second largest element is 34.\n",
    "\n",
    "    Input: arr[] = [10, 5, 10]\n",
    "    Output: 5\n",
    "    Explanation: The largest element of the array is 10 and the second largest element is 5.\n",
    "\n",
    "    Input: arr[] = [10, 10, 10]\n",
    "    Output: -1\n",
    "    Explanation: The largest element of the array is 10 and the second largest element does not exist.\n",
    "\n",
    "Constraints:\n",
    "\n",
    "2 ≤ arr.size() ≤ 10<sup>5</sup>\n",
    "\n",
    "1 ≤ arr[i] ≤ 10<sup>5</sup>\n",
    "\n",
    "Expected Complexities\n",
    "Time Complexity: O(n)\n",
    "Auxiliary Space: O(1)"
   ]
  },
  {
   "cell_type": "code",
   "execution_count": 10,
   "id": "097cc250",
   "metadata": {},
   "outputs": [],
   "source": [
    "# class Solution:\n",
    "#     def getSecondLargest(self, arr):\n",
    "#         n = len(arr)\n",
    "#         largest = arr[0]\n",
    "#         second_largest = -1\n",
    "#         # second_largest = 0\n",
    "#         for i in range(0,n-1):\n",
    "\n",
    "#             if n < 2:\n",
    "#                 return -1\n",
    "            \n",
    "#             elif arr[i] >= largest:\n",
    "#                 largest = arr[i]\n",
    "            \n",
    "#             elif arr[i]<largest and arr[i]>second_largest:\n",
    "#                 second_largest = arr[i]\n",
    "            \n",
    "#         return second_largest\n",
    "        \n",
    "        # Code Here\n",
    "\n",
    "# Driver Code Ends\n",
    "\n",
    "# sol = Solution()\n",
    "# largest, second_largest = sol.getSecondLargest([2,3,10,6,4,8,1])\n",
    "# print(largest, second_largest)\n",
    "# largest, second_largest = sol.getSecondLargest([10, 5, 10])\n",
    "# print(largest, second_largest)\n",
    "# largest, second_largest = sol.getSecondLargest([10, 10, 10])\n",
    "# print(largest, second_largest)\n"
   ]
  },
  {
   "cell_type": "markdown",
   "id": "56a9425d",
   "metadata": {},
   "source": [
    "## 🧠 Logic to Find Second Largest in an Array\n",
    "\n",
    "We are given a list of **positive integers**, and we need to find the **second largest element**. If it doesn't exist (i.e., all elements are the same), return `-1`.\n",
    "\n",
    "---\n",
    "\n",
    "### ✅ Constraints to Remember\n",
    "\n",
    "* The second largest must be **strictly less than** the largest.\n",
    "* The time complexity should be **O(n)** — no sorting.\n",
    "* The auxiliary space should be **O(1)** — constant extra space.\n",
    "\n",
    "---\n",
    "\n",
    "## 🚀 Approach\n",
    "\n",
    "We **traverse the array once**, keeping track of:\n",
    "\n",
    "* `largest`: the largest element so far.\n",
    "* `second_largest`: the second largest element so far (but must be less than `largest`).\n",
    "\n",
    "---\n",
    "\n",
    "### 🔄 Step-by-Step\n",
    "\n",
    "1. Initialize:\n",
    "\n",
    "   ```python\n",
    "   largest = arr[0]\n",
    "   second_largest = -1\n",
    "   ```\n",
    "\n",
    "2. Loop through the array from the second element:\n",
    "\n",
    "   ```python\n",
    "   for i in range(1, n):\n",
    "   ```\n",
    "\n",
    "3. At each step:\n",
    "\n",
    "   * If `arr[i] > largest`:\n",
    "\n",
    "     * This means we found a new largest.\n",
    "     * Set `second_largest = largest` before updating.\n",
    "     * Then, update `largest = arr[i]`.\n",
    "   * Else if `arr[i] < largest and arr[i] > second_largest`:\n",
    "\n",
    "     * This means the current number is a valid second largest candidate (distinct from largest).\n",
    "     * Update `second_largest`.\n",
    "\n",
    "---\n",
    "\n",
    "## 🧪 Example\n",
    "\n",
    "### Input:\n",
    "\n",
    "```python\n",
    "arr = [10, 5, 10]\n",
    "```\n",
    "\n",
    "### Walkthrough:\n",
    "\n",
    "* Start: `largest = 10`, `second_largest = -1`\n",
    "* i = 1: `arr[1] = 5`\n",
    "\n",
    "  * 5 < 10 and 5 > -1 → update `second_largest = 5`\n",
    "* i = 2: `arr[2] = 10`\n",
    "\n",
    "  * 10 == largest → skip (not a valid second largest)\n",
    "\n",
    "✅ Final answer: `second_largest = 5`\n",
    "\n",
    "---\n",
    "\n",
    "## 📌 Edge Cases\n",
    "\n",
    "| Case                  | Explanation                               | Output |\n",
    "| --------------------- | ----------------------------------------- | ------ |\n",
    "| `[10, 10, 10]`        | All elements are same → no second largest | `-1`   |\n",
    "| `[5, 10, 20, 20, 20]` | Second largest = 10 (even if 20 repeats)  | `10`   |\n",
    "| `[3, 2]`              | Second largest = 2                        | `2`    |\n",
    "| `[1]` or `[]`         | Not enough elements                       | `-1`   |\n",
    "\n",
    "---\n"
   ]
  },
  {
   "cell_type": "code",
   "execution_count": 1,
   "id": "be6c0c70",
   "metadata": {},
   "outputs": [
    {
     "name": "stdout",
     "output_type": "stream",
     "text": [
      "5\n",
      "-1\n",
      "34\n"
     ]
    }
   ],
   "source": [
    "class Solution():\n",
    "    def get_second_largest(self,arr):\n",
    "        n = len(arr)\n",
    "        if n<2:\n",
    "            return -1\n",
    "        largest = arr[0]\n",
    "        second_largest = -1\n",
    "        for i in range(n):\n",
    "            if arr[i] > largest:\n",
    "                second_largest = largest\n",
    "                largest = arr[i]\n",
    "\n",
    "            elif arr[i] < largest and arr[i] > second_largest:\n",
    "                second_largest = arr[i]\n",
    "            \n",
    "        return second_largest\n",
    "\n",
    "print(Solution().get_second_largest([10, 5, 10]))  # Output: 5\n",
    "print(Solution().get_second_largest([10, 10, 10])) # Output: -1\n",
    "print(Solution().get_second_largest([12, 35, 1, 10, 34, 1]))  # Output: 34"
   ]
  },
  {
   "cell_type": "code",
   "execution_count": 11,
   "id": "21a4e18e",
   "metadata": {},
   "outputs": [],
   "source": [
    "# fixed solution\n",
    "class Solution():\n",
    "    def get_second_largest(self,arr):\n",
    "        n = len(arr)\n",
    "        \n",
    "        # if there is only one element (or zero) in the list, no second largest number exists\n",
    "        if n<2:\n",
    "            return -1\n",
    "        \n",
    "        # initialize largest and second_largest\n",
    "        largest = arr[0]\n",
    "        second_largest = -1\n",
    "\n",
    "        # initialization done using 0th index so move forward\n",
    "        for i in range(1,n):\n",
    "\n",
    "            if arr[i] >= largest:\n",
    "                second_largest = largest\n",
    "                largest = arr[i]\n",
    "\n",
    "            elif arr[i] < largest and second_largest > arr[i]:\n",
    "                second_largest = arr[i]\n",
    "        return second_largest if second_largest != -1 else -1        "
   ]
  },
  {
   "cell_type": "code",
   "execution_count": 12,
   "id": "02f0f941",
   "metadata": {},
   "outputs": [
    {
     "name": "stdout",
     "output_type": "stream",
     "text": [
      "10\n",
      "10\n",
      "1\n"
     ]
    }
   ],
   "source": [
    "print(Solution().get_second_largest([10, 5, 10]))  # Output: 5\n",
    "print(Solution().get_second_largest([10, 10, 10])) # Output: -1\n",
    "print(Solution().get_second_largest([12, 35, 1, 10, 34, 1]))  # Output: 34"
   ]
  },
  {
   "cell_type": "markdown",
   "id": "299b26f9",
   "metadata": {},
   "source": []
  },
  {
   "cell_type": "markdown",
   "id": "3a561286",
   "metadata": {},
   "source": []
  },
  {
   "cell_type": "markdown",
   "id": "b25ecaa4",
   "metadata": {},
   "source": [
    "## 2. First Repeating Element\n",
    "\n",
    "Given an array arr[], find the first repeating element. The element should occur more than once and the index of its first occurrence should be the smallest.\n",
    "\n",
    "Note:- The position you return should be according to 1-based indexing. \n",
    "\n",
    "Examples:\n",
    "\n",
    "    Input: arr[] = [1, 5, 3, 4, 3, 5, 6]\n",
    "    Output: 2\n",
    "    Explanation: 5 appears twice and its first appearance is at index 2 which is less than 3 whose first the occurring index is 3.\n",
    "\n",
    "    Input: arr[] = [1, 2, 3, 4]\n",
    "    Output: -1\n",
    "    Explanation: All elements appear only once so answer is -1.\n",
    "\n",
    "Constraints:\n",
    "\n",
    "1 <= arr.size <= 10<sup>6</sup>\n",
    "\n",
    "0 <= arr[i]<= 10<sup>6</sup>"
   ]
  },
  {
   "cell_type": "code",
   "execution_count": 13,
   "id": "0127b135",
   "metadata": {},
   "outputs": [
    {
     "name": "stdout",
     "output_type": "stream",
     "text": [
      "1\n",
      "-1\n"
     ]
    }
   ],
   "source": [
    "class Solution:\n",
    "    def firstRepeated(self,arr):\n",
    "    # Code Here\n",
    "        n = len(arr)\n",
    "\n",
    "        for i in range(n):\n",
    "            for j in range(i+1,n):\n",
    "                if arr[i] == arr[j]:\n",
    "                    return i+1\n",
    "        return -1\n",
    "\n",
    "# takes too long\n",
    "\n",
    "# test cases\n",
    "arr1 = [2, 3, 5, 4, 3, 2, 6, 7]\n",
    "print(Solution().firstRepeated(arr1))  # Output: 4\n",
    "\n",
    "arr2 = [1, 2, 3, 4, 5, 6, 7, 8]\n",
    "print(Solution().firstRepeated(arr2))  # Output: -1\n"
   ]
  },
  {
   "cell_type": "markdown",
   "id": "64179d8a",
   "metadata": {},
   "source": []
  },
  {
   "cell_type": "code",
   "execution_count": 14,
   "id": "a1da58b6",
   "metadata": {},
   "outputs": [
    {
     "name": "stdout",
     "output_type": "stream",
     "text": [
      "set()\n",
      "1\n"
     ]
    }
   ],
   "source": [
    "class Solution:\n",
    "    def firstRepeated(self, arr):\n",
    "        seen = set()  # Stores elements we’ve seen so far\n",
    "        index = -1    # Will store the index of the first repeating element\n",
    "        print(seen)\n",
    "        # Go from right to left (why? so we remember the *earliest* index)\n",
    "        for i in range(len(arr) - 1, -1, -1):\n",
    "            if arr[i] in seen:\n",
    "                index = i \n",
    "                # uncomment to see how it works\n",
    "                # print(\"Inside if: \") # We’ve seen this before → store this earlier index\n",
    "                # print(index)\n",
    "                # print(seen)\n",
    "            else:\n",
    "                seen.add(arr[i])  # Mark this value as seen\n",
    "                # uncomment to see how it works\n",
    "                # print(\"Inside else: \") # We’ve seen this before → store this earlier index\n",
    "                # print(index)\n",
    "                # print(seen)\n",
    "\n",
    "        # If index was updated, return 1-based index\n",
    "        return index + 1 if index != -1 else -1\n",
    "\n",
    "# test cases\n",
    "arr1 = [1, 3, 5, 3, 5, 1, 6, 7]\n",
    "print(Solution().firstRepeated(arr1))  # Output: 4"
   ]
  },
  {
   "cell_type": "markdown",
   "id": "34fded07",
   "metadata": {},
   "source": []
  },
  {
   "cell_type": "markdown",
   "id": "1495d57a",
   "metadata": {},
   "source": [
    "## 3. Count the Zeros\n",
    "\n",
    "Given an array arr of only 0's and 1's. The array is sorted in such a manner that all the 1's are placed first and then they are followed by all the 0's. Find the count of all the 0's.\n",
    "\n",
    "Examples:\n",
    "\n",
    "    Input: arr[] = [1, 1, 1, 1, 1, 1, 1, 1, 1, 0, 0, 0]\n",
    "    Output: 3\n",
    "    Explanation: There are 3 0's in the given array.\n",
    "\n",
    "    Input: arr[] = [0, 0, 0, 0, 0]\n",
    "    Output: 5\n",
    "    Explanation: There are 5 0's in the array.\n",
    "\n",
    "Constraints:\n",
    "\n",
    "1 <= arr.size <= 10<sup>5</sup>\n",
    "\n",
    "0 <= arr[i] <= 1"
   ]
  },
  {
   "cell_type": "code",
   "execution_count": 3,
   "id": "ec49a9b7",
   "metadata": {},
   "outputs": [
    {
     "name": "stdout",
     "output_type": "stream",
     "text": [
      "4\n",
      "6\n",
      "4\n"
     ]
    }
   ],
   "source": [
    "#User function Template for python3\n",
    "\n",
    "class Solution:\n",
    "    def countZeroes(self, arr):\n",
    "        # code here\n",
    "        for i in range(len(arr)):\n",
    "            if arr[i]==0:\n",
    "                return len(arr)-i\n",
    "            \n",
    "sol = Solution()\n",
    "print(sol.countZeroes([1,1,1,1,1,1,0,0,0,0]))\n",
    "print(sol.countZeroes([1,0,0,0,0,0,0]))\n",
    "print(sol.countZeroes([0,0,0,0]))"
   ]
  },
  {
   "cell_type": "markdown",
   "id": "0f222605",
   "metadata": {},
   "source": [
    "## 4. Floor in a Sorted Array\n",
    "\n",
    "Given a sorted array arr[] and an integer x, find the index (0-based) of the largest element in arr[] that is less than or equal to x. This element is called the floor of x. If such an element does not exist, return -1.\n",
    "\n",
    "Note: In case of multiple occurrences of ceil of x, return the index of the last occurrence.\n",
    "\n",
    "Examples\n",
    "\n",
    "    Input: arr[] = [1, 2, 8, 10, 10, 12, 19], x = 5\n",
    "    Output: 1\n",
    "    Explanation: Largest number less than or equal to 5 is 2, whose index is 1.\n",
    "\n",
    "    Input: arr[] = [1, 2, 8, 10, 10, 12, 19], x = 11\n",
    "    Output: 4\n",
    "    Explanation: Largest Number less than or equal to 11 is 10, whose indices are 3 and 4. The index of last occurrence is 4.\n",
    "\n",
    "    Input: arr[] = [1, 2, 8, 10, 10, 12, 19], x = 0\n",
    "    Output: -1\n",
    "    Explanation: No element less than or equal to 0 is found. So, output is -1.\n",
    "\n",
    "Constraints:\n",
    "\n",
    "1 ≤ arr.size() ≤ 10<sup>6</sup>\n",
    "\n",
    "1 ≤ arr[i] ≤ 10<sup>6</sup>\n",
    "\n",
    "0 ≤ x ≤ arr[n-1]"
   ]
  },
  {
   "cell_type": "code",
   "execution_count": 8,
   "id": "52a8211a",
   "metadata": {},
   "outputs": [
    {
     "name": "stdout",
     "output_type": "stream",
     "text": [
      "4\n",
      "4\n",
      "-1\n",
      "6\n"
     ]
    }
   ],
   "source": [
    "class Solution:\n",
    "    #User function Template for python3\n",
    "    \n",
    "    #Complete this function\n",
    "    def findFloor(self, arr, x):\n",
    "        # edge case 1\n",
    "        # first element is greater than x\n",
    "        if arr[0]>x:\n",
    "            return -1\n",
    "        \n",
    "        for i in range(1,len(arr)):\n",
    "            if arr[i]>x:\n",
    "                return i-1\n",
    "        \n",
    "\n",
    "        # edge case 2\n",
    "        # last element is smaller than x\n",
    "        # return - 1  # this is wrong because if x> last element last element should be printed\n",
    "        return len(arr) - 1  # Return last index if x >= all elements\n",
    "    \n",
    "sol = Solution()\n",
    "print(sol.findFloor(arr = [1, 2, 8, 10, 10, 12, 19],x = 11))\n",
    "print(sol.findFloor(arr = [1, 2, 8, 10, 10, 12, 19],x = 10))\n",
    "print(sol.findFloor(arr = [1, 2, 8, 10, 10, 12, 19],x = 0))\n",
    "print(sol.findFloor(arr = [1, 2, 8, 10, 10, 12, 19],x = 25))"
   ]
  },
  {
   "cell_type": "markdown",
   "id": "0f4383ae",
   "metadata": {},
   "source": [
    "## 5. Bitonic Point\n",
    "\n",
    "Given an array of integers arr[] that is first strictly increasing and then maybe strictly decreasing, find the bitonic point, that is the maximum element in the array.\n",
    "Bitonic Point is a point before which elements are strictly increasing and after which elements are strictly decreasing.\n",
    "\n",
    "Note: It is guaranteed that the array contains exactly one bitonic point.\n",
    "\n",
    "Examples:\n",
    "\n",
    "    Input: arr[] = [1, 2, 4, 5, 7, 8, 3]\n",
    "    Output: 8\n",
    "    Explanation: Elements before 8 are strictly increasing [1, 2, 4, 5, 7] and elements after 8 are strictly decreasing [3].\n",
    "\n",
    "    Input: arr[] = [10, 20, 30, 40, 50]\n",
    "    Output: 50\n",
    "    Explanation: Elements before 50 are strictly increasing [10, 20, 30 40] and there are no elements after 50.\n",
    "\n",
    "    Input: arr[] = [120, 100, 80, 20, 0]\n",
    "    Output: 120\n",
    "    Explanation: There are no elements before 120 and elements after 120 are strictly decreasing [100, 80, 20, 0]."
   ]
  },
  {
   "cell_type": "code",
   "execution_count": 15,
   "id": "a1ea48ba",
   "metadata": {},
   "outputs": [],
   "source": [
    "# easy we have to calculate largest element\n",
    "class Solution:\n",
    "\n",
    "    def findMaximum(self, arr):\n",
    "        # code here\n",
    "        largest = arr[0]\n",
    "        for i in range(1, len(arr)):\n",
    "            if arr[i] >= largest:\n",
    "                largest = arr[i]\n",
    "        return largest\n"
   ]
  },
  {
   "cell_type": "markdown",
   "id": "2cf47b65",
   "metadata": {},
   "source": [
    "## Bracket Matcher\n",
    "\n",
    "Have the function BracketMatcher(str) take the str parameter being passed and return 1 if the brackets are correctly matched and each one is accounted for. Otherwise return 0. For example: if str is \"(hello (world))\", then the output should be 1, but if str is \"((hello (world))\" the the output should be 0 because the brackets do not correctly match up. Only \"(\" and \")\" will be used as brackets. If str contains no brackets return 1.\n",
    "\n",
    "Examples\n",
    "\n",
    "    Input: \"(coder)(byte))\"\n",
    "    Output: 0\n",
    "    Input: \"(c(oder)) b(yte)\"\n",
    "    Output: 1 "
   ]
  },
  {
   "cell_type": "markdown",
   "id": "14b8271d",
   "metadata": {},
   "source": []
  }
 ],
 "metadata": {
  "kernelspec": {
   "display_name": "base",
   "language": "python",
   "name": "python3"
  },
  "language_info": {
   "codemirror_mode": {
    "name": "ipython",
    "version": 3
   },
   "file_extension": ".py",
   "mimetype": "text/x-python",
   "name": "python",
   "nbconvert_exporter": "python",
   "pygments_lexer": "ipython3",
   "version": "3.10.13"
  }
 },
 "nbformat": 4,
 "nbformat_minor": 5
}
