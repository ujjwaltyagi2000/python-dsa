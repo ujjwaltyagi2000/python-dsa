{
 "cells": [
  {
   "cell_type": "markdown",
   "id": "60f67ce6",
   "metadata": {},
   "source": [
    "# **Searching Algorithms**"
   ]
  },
  {
   "cell_type": "markdown",
   "id": "629b4959",
   "metadata": {},
   "source": [
    "Searching algorithms are fundamental techniques used to find an element or a value within a collection of data. In this tutorial, we'll explore some of the most commonly used searching algorithms in Python. These algorithms include Linear Search, Binary Search, Interpolation Search, and Jump Search."
   ]
  },
  {
   "cell_type": "markdown",
   "id": "34163636",
   "metadata": {},
   "source": [
    "## 1. Linear Search\n",
    "\n",
    "Linear search is the simplest searching algorithm. It sequentially checks each element of the list until it finds the target value.\n",
    "Steps:\n",
    "\n",
    "    Start from the first element of the list.\n",
    "    Compare each element of the list with the target value.\n",
    "    If the element matches the target value, return its index.\n",
    "    If the target value is not found after iterating through the entire list, return -1."
   ]
  },
  {
   "cell_type": "code",
   "execution_count": 1,
   "id": "ec31cd8d",
   "metadata": {},
   "outputs": [
    {
     "name": "stdout",
     "output_type": "stream",
     "text": [
      "Target value 6 found at index : 3 in the list [1, 3, 5, 6, 8, 9]\n"
     ]
    }
   ],
   "source": [
    "# linear search implementation\n",
    "def linear_search(arr, target):\n",
    "    \"\"\"\n",
    "    Perform Linear Search to find the target value in the list.\n",
    "\n",
    "    Parameters:\n",
    "        arr(list): The list to be searched.\n",
    "        target: The value to be searched for\n",
    "    \n",
    "    Returns:\n",
    "        int: index of target value in the list if found, otherwise -1\n",
    "    \n",
    "    \"\"\"\n",
    "    for i in range(len(arr)):\n",
    "        if arr[i] == target:\n",
    "            return i\n",
    "    return -1\n",
    "a = [1,3,5,6,8,9]\n",
    "target = 6\n",
    "result = linear_search([1,3,5,6,8,9], 6)\n",
    "if result != 0:\n",
    "    print(f\"Target value {target} found at index : {result} in the list {a}\")\n",
    "else:\n",
    "    print(f\"Target value {target} not found in list {a}\")\n"
   ]
  },
  {
   "cell_type": "markdown",
   "id": "de663b25",
   "metadata": {},
   "source": []
  },
  {
   "cell_type": "markdown",
   "id": "afc7aee3",
   "metadata": {},
   "source": []
  },
  {
   "cell_type": "markdown",
   "id": "fa4a7918",
   "metadata": {},
   "source": [
    "## 2. Binary Search\n",
    "\n",
    "Binary search is a more efficient searching algorithm suitable for **sorted** lists. It repeatedly divides the search interval in half until the target value is found.\n",
    "Steps:\n",
    "\n",
    "    Start with the entire sorted list.\n",
    "    Compute the middle element of the list.\n",
    "    If the middle element is equal to the target value, return its index.\n",
    "    If the middle element is less than the target value, search in the right half of the list.\n",
    "    If the middle element is greater than the target value, search in the left half of the list.\n",
    "    Repeat steps 2-5 until the target value is found or the search interval is empty."
   ]
  },
  {
   "cell_type": "code",
   "execution_count": null,
   "id": "82994613",
   "metadata": {},
   "outputs": [
    {
     "name": "stdout",
     "output_type": "stream",
     "text": [
      "Iterative: Target found at index 6\n"
     ]
    },
    {
     "ename": "",
     "evalue": "",
     "output_type": "error",
     "traceback": [
      "\u001b[1;31mThe Kernel crashed while executing code in the current cell or a previous cell. \n",
      "\u001b[1;31mPlease review the code in the cell(s) to identify a possible cause of the failure. \n",
      "\u001b[1;31mClick <a href='https://aka.ms/vscodeJupyterKernelCrash'>here</a> for more info. \n",
      "\u001b[1;31mView Jupyter <a href='command:jupyter.viewOutput'>log</a> for further details."
     ]
    }
   ],
   "source": [
    "# iterative implementation of binary search\n",
    "\n",
    "def binary_search(arr, target):\n",
    "    \"\"\"\n",
    "    Perform binary search to find a target value in a sorted list\n",
    "\n",
    "    Parameters:\n",
    "        arr(list): Sorted list to be searched\n",
    "        target: Value to be searched for in the sorted list\n",
    "\n",
    "    Returns:\n",
    "        int: Index of target value if found, otherwise -1\n",
    "    \"\"\"\n",
    "    # set lower and upper index\n",
    "    low = 0\n",
    "    high = len(arr) - 1\n",
    "\n",
    "    while low<=high:\n",
    "        mid = (low + high)  // 2\n",
    "\n",
    "        if arr[mid] == target:\n",
    "            return mid\n",
    "        \n",
    "        elif arr[mid] < target:\n",
    "            low = mid + 1\n",
    "\n",
    "        else:\n",
    "            high = mid - 1\n",
    "\n",
    "    return -1\n",
    "\n",
    "# Run the iterative function\n",
    "arr = [1,2,3,4,5,6,7,8,9,10]\n",
    "target = 7\n",
    "result = binary_search(arr, target)\n",
    "if result != -1:\n",
    "    print(f\"Iterative: Target found at index {result}\")\n",
    "else:\n",
    "    print(\"Iterative: Target not found\")"
   ]
  },
  {
   "cell_type": "code",
   "execution_count": 2,
   "id": "fd5732ca",
   "metadata": {},
   "outputs": [
    {
     "name": "stdout",
     "output_type": "stream",
     "text": [
      "Iterative: Target found at index 6\n"
     ]
    }
   ],
   "source": [
    "# recursive implementation of binary search\n",
    "\n",
    "def recursive_binary_search(arr, target, low, high):\n",
    "    \"\"\"\n",
    "    Perform binary search to find a target value in a sorted list\n",
    "\n",
    "    Parameters:\n",
    "        arr (list): Sorted list to be searched\n",
    "        target: Value to be searched for in the sorted list\n",
    "        low (int): Lower index of list or search interval\n",
    "        high (int: Upper index of list or search interval\n",
    "\n",
    "    Returns:\n",
    "        int: Index of target value if found, otherwise -1\n",
    "    \"\"\"\n",
    "    if low <= high:\n",
    "        mid = (low + high) //2\n",
    "        \n",
    "        if arr[mid] == target:\n",
    "            return mid\n",
    "        \n",
    "        elif arr[mid] < target:\n",
    "            low = mid +1\n",
    "            return recursive_binary_search(arr, target, low, high)\n",
    "\n",
    "        else: \n",
    "            high = mid - 1\n",
    "            return recursive_binary_search(arr, target, low, high)\n",
    "        \n",
    "    else:\n",
    "        return -1\n",
    "    \n",
    "\n",
    "# run the recursive function:\n",
    "arr = [1,2,3,4,5,6,7,8,9,10]\n",
    "target = 7\n",
    "result = recursive_binary_search(arr, target, low = 0, high = len(arr) - 1)\n",
    "if result != -1:\n",
    "    print(f\"Iterative: Target found at index {result}\")\n",
    "else:\n",
    "    print(\"Iterative: Target not found\")"
   ]
  },
  {
   "cell_type": "markdown",
   "id": "59df931b",
   "metadata": {},
   "source": []
  },
  {
   "cell_type": "markdown",
   "id": "3309bbc2",
   "metadata": {},
   "source": []
  },
  {
   "cell_type": "markdown",
   "id": "196cfd14",
   "metadata": {},
   "source": [
    "## 3. Jump Search\n",
    "\n",
    "Imagine searching for a word in a **dictionary** by checking every page — that’s **linear search** (slow). Now imagine jumping every 50 pages, then doing a linear search **within a smaller section** — that’s the idea behind **jump search**.\n",
    "\n",
    "---\n",
    "\n",
    "### 🧠 **How It Works**\n",
    "\n",
    "Given a **sorted array** of `n` elements:\n",
    "\n",
    "1. **Choose a block size to jump**: Typically `√n`\n",
    "2. **Jump ahead by that block size** until:\n",
    "\n",
    "   * You find a block where the element is **greater than or equal to** the target (you overshot or hit the range)\n",
    "3. **Do a linear search** backward within that block\n",
    "\n",
    "---\n",
    "\n",
    "### 🧮 **Example**\n",
    "\n",
    "```python\n",
    "arr = [1, 3, 5, 7, 9, 11, 13, 15]\n",
    "target = 9\n",
    "```\n",
    "\n",
    "* `n = 8` → block size = `√8 ≈ 2`\n",
    "* Jump to index 0 → 2 → 4 → found 9 is between index 4 and 6\n",
    "* Linearly check index 4 and 5 → bingo\n",
    "\n",
    "---\n",
    "\n",
    "### ⏱ **Time Complexity**\n",
    "\n",
    "* Jumping: `n / √n = √n`\n",
    "* Linear search in block: up to `√n`\n",
    "* **Total: O(√n)**\n",
    "\n",
    "Better than linear `O(n)`, but worse than binary `O(log n)`\n"
   ]
  },
  {
   "cell_type": "code",
   "execution_count": null,
   "id": "63278fc6",
   "metadata": {},
   "outputs": [
    {
     "name": "stdout",
     "output_type": "stream",
     "text": [
      "Found 13 at index 6\n"
     ]
    }
   ],
   "source": [
    "# implement jump search\n",
    "\n",
    "def jump_search(arr, target):\n",
    "    \"\"\"\n",
    "    Perform Jump Search on a sorted list to find target value\n",
    "\n",
    "    Parameters:\n",
    "        arr (list): List to be searched\n",
    "        target: Value to be searched in the list\n",
    "\n",
    "    Returns:\n",
    "        int: the index of target value if found, otherwise -1\n",
    "    \"\"\"\n",
    "    n = len(arr)\n",
    "    step = int(n**0.5) # step at which you move\n",
    "    index = 0 # lower bound\n",
    "\n",
    "    # Step 1: Jump in blocks\n",
    "    # check if index is less than n and either step or n is less than target\n",
    "    while index < n and arr[min(step, n) - 1] < target: \n",
    "        index = step # lower bound updated --> one step ahead\n",
    "        step += int(n**0.5) # upper bound updated\n",
    "        if index >= n:\n",
    "            return -1  # Target not found\n",
    "\n",
    "    # Step 2: Linear search in the identified block\n",
    "    for i in range(index, min(step, n)):\n",
    "        if arr[i] == target:\n",
    "            return i\n",
    "\n",
    "    return -1\n",
    "\n",
    "\n",
    "arr = [1, 3, 5, 7, 9, 11, 13, 15, 17, 19]\n",
    "target = 13\n",
    "index = jump_search(arr, target)\n",
    "\n",
    "if index != -1:\n",
    "    print(f\"Found {target} at index {index}\")\n",
    "else:\n",
    "    print(f\"{target} not found in array\")"
   ]
  }
 ],
 "metadata": {
  "kernelspec": {
   "display_name": "base",
   "language": "python",
   "name": "python3"
  },
  "language_info": {
   "codemirror_mode": {
    "name": "ipython",
    "version": 3
   },
   "file_extension": ".py",
   "mimetype": "text/x-python",
   "name": "python",
   "nbconvert_exporter": "python",
   "pygments_lexer": "ipython3",
   "version": "3.10.13"
  }
 },
 "nbformat": 4,
 "nbformat_minor": 5
}
