{
 "cells": [
  {
   "cell_type": "markdown",
   "id": "adac5d8f",
   "metadata": {},
   "source": [
    "# **Dictionaries**"
   ]
  },
  {
   "cell_type": "markdown",
   "id": "a840ef85",
   "metadata": {},
   "source": [
    "A Python dictionary is a data structure that stores the value in key: value pairs. Values in a dictionary can be of any data type and can be duplicated, whereas keys can’t be repeated and must be immutable.\n",
    "\n",
    "Example: Here, The data is stored in key:value pairs in dictionaries, which makes it easier to find values. "
   ]
  },
  {
   "cell_type": "code",
   "execution_count": 1,
   "id": "01bbdb3c",
   "metadata": {},
   "outputs": [
    {
     "name": "stdout",
     "output_type": "stream",
     "text": [
      "{1: 'Geeks', 2: 'For', 3: 'Geeks'}\n"
     ]
    }
   ],
   "source": [
    "d = {1: 'Geeks', 2: 'For', 3: 'Geeks'}\n",
    "print(d)"
   ]
  },
  {
   "cell_type": "markdown",
   "id": "7f767c8f",
   "metadata": {},
   "source": [
    "## How to Create a Dictionary\n",
    "\n",
    "In Python, a dictionary can be created by placing a sequence of elements within curly {} braces, separated by a ‘comma’. "
   ]
  },
  {
   "cell_type": "code",
   "execution_count": 14,
   "id": "a5c2abb6",
   "metadata": {},
   "outputs": [
    {
     "name": "stdout",
     "output_type": "stream",
     "text": [
      "{1: 'Geeks', 2: 'For', 3: 'Geeks'}\n",
      "{'a': 'Geeks', 'b': 'for', 'c': 'Geeks'}\n"
     ]
    }
   ],
   "source": [
    "# create dictionary using { }\n",
    "d1 = {1: 'Geeks', 2: 'For', 3: 'Geeks'}\n",
    "print(d1)\n",
    "\n",
    "# create dictionary using dict() constructor\n",
    "d2 = dict(a = \"Geeks\", b = \"for\", c = \"Geeks\")\n",
    "print(d2)"
   ]
  },
  {
   "cell_type": "code",
   "execution_count": 21,
   "id": "e5f7186e",
   "metadata": {},
   "outputs": [],
   "source": [
    "# creating dataframes from dictionaries\n",
    "import pandas as pd"
   ]
  },
  {
   "cell_type": "code",
   "execution_count": 22,
   "id": "8a194c77",
   "metadata": {},
   "outputs": [],
   "source": [
    "# df = pd.DataFrame(d1)\n",
    "# this will throw an error as values of all keys are not iterables"
   ]
  },
  {
   "cell_type": "code",
   "execution_count": 23,
   "id": "cce83231",
   "metadata": {},
   "outputs": [],
   "source": [
    "# df"
   ]
  },
  {
   "cell_type": "code",
   "execution_count": 24,
   "id": "7927136f",
   "metadata": {},
   "outputs": [
    {
     "data": {
      "text/html": [
       "<div>\n",
       "<style scoped>\n",
       "    .dataframe tbody tr th:only-of-type {\n",
       "        vertical-align: middle;\n",
       "    }\n",
       "\n",
       "    .dataframe tbody tr th {\n",
       "        vertical-align: top;\n",
       "    }\n",
       "\n",
       "    .dataframe thead th {\n",
       "        text-align: right;\n",
       "    }\n",
       "</style>\n",
       "<table border=\"1\" class=\"dataframe\">\n",
       "  <thead>\n",
       "    <tr style=\"text-align: right;\">\n",
       "      <th></th>\n",
       "      <th>1</th>\n",
       "      <th>2</th>\n",
       "      <th>3</th>\n",
       "    </tr>\n",
       "  </thead>\n",
       "  <tbody>\n",
       "    <tr>\n",
       "      <th>0</th>\n",
       "      <td>Geeks</td>\n",
       "      <td>For</td>\n",
       "      <td>Geeks</td>\n",
       "    </tr>\n",
       "  </tbody>\n",
       "</table>\n",
       "</div>"
      ],
      "text/plain": [
       "       1    2      3\n",
       "0  Geeks  For  Geeks"
      ]
     },
     "execution_count": 24,
     "metadata": {},
     "output_type": "execute_result"
    }
   ],
   "source": [
    "d3 = {1: ['Geeks'], 2: ['For'], 3: ['Geeks']} # turning values into iterables\n",
    "pd.DataFrame(d3)"
   ]
  },
  {
   "cell_type": "markdown",
   "id": "a59b0590",
   "metadata": {},
   "source": [
    "- Dictionary keys are case sensitive: the same name but different cases of Key will be treated distinctly.\n",
    "- Keys must be immutable: This means keys can be strings, numbers, or tuples but not lists.\n",
    "- Keys must be unique: Duplicate keys are not allowed and any duplicate key will overwrite the previous value.\n",
    "- Dictionary internally uses Hashing. Hence, operations like search, insert, delete can be performed in Constant Time. "
   ]
  },
  {
   "cell_type": "markdown",
   "id": "db6505c1",
   "metadata": {},
   "source": [
    "## Accessing Dictionary Items\n",
    "\n",
    "We can access a value from a dictionary by using the key within square brackets or get()method."
   ]
  },
  {
   "cell_type": "code",
   "execution_count": 25,
   "id": "8db1aaed",
   "metadata": {},
   "outputs": [
    {
     "name": "stdout",
     "output_type": "stream",
     "text": [
      "Alice\n",
      "Alice\n"
     ]
    }
   ],
   "source": [
    "d = { \"name\": \"Alice\", 1: \"Python\", (1, 2): [1,2,4] }\n",
    "\n",
    "# Access using key\n",
    "print(d[\"name\"])\n",
    "\n",
    "# Access using get()\n",
    "print(d.get(\"name\"))"
   ]
  },
  {
   "cell_type": "code",
   "execution_count": 31,
   "id": "a5422490",
   "metadata": {},
   "outputs": [
    {
     "data": {
      "text/plain": [
       "dict_keys(['name', 1, (1, 2)])"
      ]
     },
     "execution_count": 31,
     "metadata": {},
     "output_type": "execute_result"
    }
   ],
   "source": [
    "d.keys()"
   ]
  },
  {
   "cell_type": "code",
   "execution_count": 29,
   "id": "09f98ba7",
   "metadata": {},
   "outputs": [
    {
     "data": {
      "text/plain": [
       "dict_values(['Alice', 'Python', [1, 2, 4]])"
      ]
     },
     "execution_count": 29,
     "metadata": {},
     "output_type": "execute_result"
    }
   ],
   "source": [
    "d.values()"
   ]
  },
  {
   "cell_type": "code",
   "execution_count": 35,
   "id": "b90df28c",
   "metadata": {},
   "outputs": [
    {
     "data": {
      "text/plain": [
       "'c'"
      ]
     },
     "execution_count": 35,
     "metadata": {},
     "output_type": "execute_result"
    }
   ],
   "source": [
    "d['name'][3] # accessing C of Alice as it is a string"
   ]
  },
  {
   "cell_type": "code",
   "execution_count": 45,
   "id": "cd266f00",
   "metadata": {},
   "outputs": [
    {
     "name": "stdout",
     "output_type": "stream",
     "text": [
      "dict_keys(['a', 'b', 'c'])\n",
      "['a', 'b', 'c']\n",
      "a: 1\n",
      "c: 3\n"
     ]
    }
   ],
   "source": [
    "# accessing multiple keys\n",
    "\n",
    "# display all keys\n",
    "my_dict = {'a': 1, 'b': 2, 'c': 3}\n",
    "print(my_dict.keys())  # dict_keys(['a', 'b', 'c'])\n",
    "\n",
    "# convert keys to a list\n",
    "print(list(my_dict.keys()))  # ['a', 'b', 'c']\n",
    "\n",
    "# display specific keys\n",
    "keys_to_display = ['a', 'c']\n",
    "for key in keys_to_display:\n",
    "    if key in my_dict:\n",
    "        print(f\"{key}: {my_dict[key]}\")\n",
    "\n"
   ]
  },
  {
   "cell_type": "markdown",
   "id": "7e688d6c",
   "metadata": {},
   "source": [
    "## Adding and Updating Dictionary Items\n",
    "\n",
    "We can add new key-value pairs or update existing keys by using assignment."
   ]
  },
  {
   "cell_type": "code",
   "execution_count": 39,
   "id": "f1c13055",
   "metadata": {},
   "outputs": [
    {
     "name": "stdout",
     "output_type": "stream",
     "text": [
      "{1: 'Python dict', 2: 'For', 3: 'Geeks', 'age': 22}\n"
     ]
    }
   ],
   "source": [
    "d = {1: 'Geeks', 2: 'For', 3: 'Geeks'}\n",
    "\n",
    "# Adding a new key-value pair\n",
    "d[\"age\"] = 22\n",
    "\n",
    "# Updating an existing value\n",
    "d[1] = \"Python dict\"\n",
    "\n",
    "print(d)"
   ]
  },
  {
   "cell_type": "markdown",
   "id": "06b33f30",
   "metadata": {},
   "source": [
    "## Removing Dictionary Items\n",
    "\n",
    "We can remove items from dictionary using the following methods:\n",
    "\n",
    "    del: Removes an item by key.\n",
    "    pop(): Removes an item by key and returns its value.\n",
    "    clear(): Empties the dictionary.\n",
    "    popitem(): Removes and returns the last key-value pair."
   ]
  },
  {
   "cell_type": "code",
   "execution_count": 47,
   "id": "0cccb701",
   "metadata": {},
   "outputs": [
    {
     "name": "stdout",
     "output_type": "stream",
     "text": [
      "{1: 'Geeks', 2: 'For', 3: 'Geeks'}\n",
      "Geeks\n",
      "dict after popping key 1: {2: 'For', 3: 'Geeks'}\n",
      "dict after popping 3, Geeks: {2: 'For'}\n",
      "{}\n"
     ]
    }
   ],
   "source": [
    "d = {1: 'Geeks', 2: 'For', 3: 'Geeks', 'age':22}\n",
    "\n",
    "# Using del to remove an item\n",
    "del d[\"age\"]\n",
    "print(d)\n",
    "\n",
    "# Using pop() to remove an item and return the value\n",
    "val = d.pop(1)\n",
    "print(val)\n",
    "print(f\"dict after popping key 1: {d}\")\n",
    "\n",
    "# Using popitem to removes and returns\n",
    "# the last key-value pair.\n",
    "key, val = d.popitem()\n",
    "print(f\"dict after popping {key}, {val}: {d}\")\n",
    "\n",
    "# Clear all items from the dictionary\n",
    "d.clear()\n",
    "print(d)"
   ]
  },
  {
   "cell_type": "markdown",
   "id": "473a1682",
   "metadata": {},
   "source": [
    "## Iterating Through a Dictionary\n",
    "\n",
    "We can iterate over keys [using keys() method] , values [using values() method] or both [using item() method] with a for loop."
   ]
  },
  {
   "cell_type": "code",
   "execution_count": 41,
   "id": "19384998",
   "metadata": {},
   "outputs": [
    {
     "name": "stdout",
     "output_type": "stream",
     "text": [
      "1\n",
      "2\n",
      "age\n",
      "Geeks\n",
      "For\n",
      "22\n",
      "1: Geeks\n",
      "2: For\n",
      "age: 22\n"
     ]
    }
   ],
   "source": [
    "d = {1: 'Geeks', 2: 'For', 'age':22}\n",
    "\n",
    "# Iterate over keys\n",
    "for key in d:\n",
    "    print(key)\n",
    "\n",
    "# Iterate over values\n",
    "for value in d.values():\n",
    "    print(value)\n",
    "\n",
    "# Iterate over key-value pairs\n",
    "for key, value in d.items():\n",
    "    print(f\"{key}: {value}\")"
   ]
  },
  {
   "cell_type": "markdown",
   "id": "d51f03c8",
   "metadata": {},
   "source": [
    "## Nested Dictionary\n",
    "![Nested Dictionary](../img/dict-1.jpg)"
   ]
  },
  {
   "cell_type": "code",
   "execution_count": 42,
   "id": "7f0d1e22",
   "metadata": {},
   "outputs": [
    {
     "name": "stdout",
     "output_type": "stream",
     "text": [
      "{1: 'Geeks', 2: 'For', 3: {'A': 'Welcome', 'B': 'To', 'C': 'Geeks'}}\n"
     ]
    }
   ],
   "source": [
    "d = {1: 'Geeks', 2: 'For',\n",
    "        3: {'A': 'Welcome', 'B': 'To', 'C': 'Geeks'}}\n",
    "\n",
    "print(d)"
   ]
  },
  {
   "cell_type": "markdown",
   "id": "cc1274f6",
   "metadata": {},
   "source": [
    "## Access Elements of a Nested Dictionary\n",
    "\n",
    "In order to access the value of any key in the nested dictionary, use indexing [] syntax."
   ]
  },
  {
   "cell_type": "code",
   "execution_count": 43,
   "id": "9bc8fa9b",
   "metadata": {},
   "outputs": [
    {
     "name": "stdout",
     "output_type": "stream",
     "text": [
      "Ali\n",
      "25\n"
     ]
    }
   ],
   "source": [
    "# Nested dictionary having same keys\n",
    "Dict = { 'Dict1': {'name': 'Ali', 'age': '19'},\n",
    "\t\t'Dict2': {'name': 'Bob', 'age': '25'}}\n",
    "\n",
    "# Prints value corresponding to key 'name' in Dict1\n",
    "print(Dict['Dict1']['name'])\n",
    "\n",
    "# Prints value corresponding to key 'age' in Dict2\n",
    "print(Dict['Dict2']['age'])\n"
   ]
  },
  {
   "cell_type": "markdown",
   "id": "d260324e",
   "metadata": {},
   "source": [
    "## Adding Elements to a Nested Dictionary\n",
    "\n",
    "The addition of elements to a nested Dictionary can be done in multiple ways. One way to add a dictionary in the Nested dictionary is to add values one be one, Nested_dict[dict][key] = ‘value’. Another way is to add the whole dictionary in one go, Nested_dict[dict] = { ‘key’: ‘value’}."
   ]
  },
  {
   "cell_type": "code",
   "execution_count": 44,
   "id": "b2462ad4",
   "metadata": {},
   "outputs": [
    {
     "name": "stdout",
     "output_type": "stream",
     "text": [
      "Initial nested dictionary:-\n",
      "{}\n",
      "\n",
      "After adding dictionary Dict1\n",
      "{'Dict1': {'name': 'Bob', 'age': 21}}\n",
      "\n",
      "After adding dictionary Dict1\n",
      "{'Dict1': {'name': 'Bob', 'age': 21}, 'Dict2': {'name': 'Cara', 'age': 25}}\n"
     ]
    }
   ],
   "source": [
    "Dict = { }\n",
    "print(\"Initial nested dictionary:-\")\n",
    "print(Dict)\n",
    "\n",
    "Dict['Dict1'] = {}\n",
    "\n",
    "# Adding elements one at a time\n",
    "Dict['Dict1']['name'] = 'Bob'\n",
    "Dict['Dict1']['age'] = 21\n",
    "print(\"\\nAfter adding dictionary Dict1\")\n",
    "print(Dict)\n",
    "\n",
    "# Adding whole dictionary\n",
    "Dict['Dict2'] = {'name': 'Cara', 'age': 25}\n",
    "print(\"\\nAfter adding dictionary Dict1\")\n",
    "print(Dict)\n"
   ]
  },
  {
   "cell_type": "markdown",
   "id": "1c5666ee",
   "metadata": {},
   "source": [
    "## Deleting Dictionaries from a Nested Dictionary\n",
    "\n",
    "Deletion of dictionaries from a nested dictionary can be done either by using the Python del keyword or by using pop() function."
   ]
  },
  {
   "cell_type": "code",
   "execution_count": 48,
   "id": "912251de",
   "metadata": {},
   "outputs": [
    {
     "name": "stdout",
     "output_type": "stream",
     "text": [
      "Initial nested dictionary:-\n",
      "{'Dict1': {'name': 'Ali', 'age': 19}, 'Dict2': {'name': 'Bob', 'age': 21}}\n",
      "\n",
      "Deleting Dict2:-\n",
      "{'Dict1': {'name': 'Ali', 'age': 19}}\n",
      "\n",
      "Deleting Dict1:-\n",
      "{}\n"
     ]
    }
   ],
   "source": [
    "Dict = {'Dict1': {'name': 'Ali', 'age': 19},\n",
    "\t\t'Dict2': {'name': 'Bob', 'age': 21}}\n",
    "print(\"Initial nested dictionary:-\")\n",
    "print(Dict)\n",
    "\n",
    "# Deleting dictionary using del keyword\n",
    "print(\"\\nDeleting Dict2:-\")\n",
    "del Dict['Dict2']\n",
    "print(Dict)\n",
    "\n",
    "# Deleting dictionary using pop function\n",
    "print(\"\\nDeleting Dict1:-\")\n",
    "Dict.pop('Dict1')\n",
    "print (Dict)\n"
   ]
  }
 ],
 "metadata": {
  "kernelspec": {
   "display_name": "base",
   "language": "python",
   "name": "python3"
  },
  "language_info": {
   "codemirror_mode": {
    "name": "ipython",
    "version": 3
   },
   "file_extension": ".py",
   "mimetype": "text/x-python",
   "name": "python",
   "nbconvert_exporter": "python",
   "pygments_lexer": "ipython3",
   "version": "3.10.13"
  }
 },
 "nbformat": 4,
 "nbformat_minor": 5
}
