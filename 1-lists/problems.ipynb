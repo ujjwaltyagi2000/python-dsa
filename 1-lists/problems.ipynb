{
 "cells": [
  {
   "cell_type": "markdown",
   "id": "11275a5b",
   "metadata": {},
   "source": [
    "# Practice Problems on lists"
   ]
  },
  {
   "cell_type": "markdown",
   "id": "3f1f31f9",
   "metadata": {},
   "source": []
  }
 ],
 "metadata": {
  "language_info": {
   "name": "python"
  }
 },
 "nbformat": 4,
 "nbformat_minor": 5
}
