{
 "cells": [
  {
   "cell_type": "markdown",
   "id": "11275a5b",
   "metadata": {},
   "source": [
    "# **Practice Problems on lists**"
   ]
  },
  {
   "cell_type": "markdown",
   "id": "3f1f31f9",
   "metadata": {},
   "source": [
    "## Problem 1: Alternates in an Array\n",
    "\n",
    "You are given an array arr[], the task is to return a list elements of arr in alternate order (starting from index 0).\n",
    "\n",
    "Examples:\n",
    "\n",
    "    Input: arr[] = [1, 2, 3, 4]\n",
    "    Output: 1 3\n",
    "    Explanation:\n",
    "    Take first element: 1\n",
    "    Skip second element: 2\n",
    "    Take third element: 3\n",
    "    Skip fourth element: 4\n",
    "\n",
    "    Input: arr[] = [1, 2, 3, 4, 5]\n",
    "    Output: 1 3 5\n",
    "    Explanation:\n",
    "    Take first element: 1\n",
    "    Skip second element: 2\n",
    "    Take third element: 3\n",
    "    Skip fourth element: 4\n",
    "    Take fifth element: 5\n",
    "\n",
    "Constraints:\n",
    "\n",
    "1 <=  arr.size <= 10<sup>5</sup>\n",
    "\n",
    "1 <= arr[i] <= 10<sup>5</sup>"
   ]
  },
  {
   "cell_type": "code",
   "execution_count": 20,
   "id": "28dfbe91",
   "metadata": {},
   "outputs": [
    {
     "data": {
      "text/plain": [
       "[1, 3, 5, 7]"
      ]
     },
     "execution_count": 20,
     "metadata": {},
     "output_type": "execute_result"
    }
   ],
   "source": [
    "# User function Template for python3\n",
    "class Solution:\n",
    "    def getAlternates(self, arr):\n",
    "        # Code Here\n",
    "        result = []\n",
    "        for i in range(0, len(arr), 2):\n",
    "            result.append(arr[i])\n",
    "        return result\n",
    "\n",
    "#  } Driver Code Ends\n",
    "sol = Solution()\n",
    "sol.getAlternates([1,2,3,4,5,6,7])"
   ]
  },
  {
   "cell_type": "markdown",
   "id": "35b5401f",
   "metadata": {},
   "source": [
    "### 🔄 Variation Problem: Get Alternate Elements Starting from Index 1\n",
    "\n",
    "✅ Problem Statement:\n",
    "Given an array `arr[]`, return a list of elements that are at **odd indices** (i.e., start from index 1 and skip every other element).\n",
    "\n",
    "📥 Example:\n",
    "\n",
    "```python\n",
    "Input:  arr = [10, 20, 30, 40, 50]\n",
    "Output: [20, 40]\n",
    "```\n",
    "\n",
    "> Explanation:  \n",
    "Index 1 → 20  \n",
    "Index 3 → 40"
   ]
  },
  {
   "cell_type": "code",
   "execution_count": 21,
   "id": "5001ae5b",
   "metadata": {},
   "outputs": [
    {
     "data": {
      "text/plain": [
       "[2, 4, 6, 8, 10]"
      ]
     },
     "execution_count": 21,
     "metadata": {},
     "output_type": "execute_result"
    }
   ],
   "source": [
    "class Solution:\n",
    "    def getOddIndexAlternates(self, arr):\n",
    "        # Your code here\n",
    "        result = []\n",
    "        for i in range(1, len(arr),2):\n",
    "            result.append(arr[i])\n",
    "        return result\n",
    "# } driver code ends\n",
    "sol = Solution()\n",
    "sol.getOddIndexAlternates([1,2,3,4,5,6,7,8,9,10])\n"
   ]
  },
  {
   "cell_type": "markdown",
   "id": "2a428726",
   "metadata": {},
   "source": [
    "### 🔄 Variation: Reverse the Array, Then Pick Alternate Elements Starting from Index 0\n",
    "\n",
    "✅ Problem Statement:\n",
    "\n",
    "Given an array `arr[]`, **reverse it first**, then return a list of **alternate elements starting from index 0** in the reversed array.\n",
    "\n",
    "---\n",
    "\n",
    "📥 Example:\n",
    "\n",
    "```python\n",
    "Input:  arr = [10, 20, 30, 40, 50]\n",
    "Step 1 (reverse):        [50, 40, 30, 20, 10]\n",
    "Step 2 (pick alternates): [50, 30, 10]\n",
    "\n",
    "Output: [50, 30, 10]\n",
    "```\n"
   ]
  },
  {
   "cell_type": "code",
   "execution_count": 22,
   "id": "9c18e369",
   "metadata": {},
   "outputs": [
    {
     "data": {
      "text/plain": [
       "[6, 4, 2]"
      ]
     },
     "execution_count": 22,
     "metadata": {},
     "output_type": "execute_result"
    }
   ],
   "source": [
    "# Practice\n",
    "\n",
    "class Solution:\n",
    "    def get_reversed_alternates(self, arr):\n",
    "        result = []\n",
    "        for i in range(len(arr)-1, -1,-2):\n",
    "            result.append(arr[i])\n",
    "        return result\n",
    "    \n",
    "sol = Solution()\n",
    "sol.get_reversed_alternates([1,2,3,4,5,6])"
   ]
  },
  {
   "cell_type": "code",
   "execution_count": 23,
   "id": "7ecaf1dc",
   "metadata": {},
   "outputs": [
    {
     "data": {
      "text/plain": [
       "[5, 3]"
      ]
     },
     "execution_count": 23,
     "metadata": {},
     "output_type": "execute_result"
    }
   ],
   "source": [
    "# first attempt\n",
    "class Solution:\n",
    "    def getReversedAlternates(self, arr):\n",
    "        # Your code here\n",
    "        result = []\n",
    "        for i in range(len(arr)-1, 0, -2):\n",
    "            result.append(arr[i])\n",
    "        return result\n",
    "# code ends here\n",
    "\n",
    "sol = Solution()\n",
    "sol.getReversedAlternates([1,2,3,4,5])"
   ]
  },
  {
   "cell_type": "markdown",
   "id": "e6dffaef",
   "metadata": {},
   "source": [
    "The above solution is incorrect as range goes up to 1 index lesser than the upper limit. So instead of 0, set upper val as -1"
   ]
  },
  {
   "cell_type": "code",
   "execution_count": 24,
   "id": "e5278ec5",
   "metadata": {},
   "outputs": [
    {
     "data": {
      "text/plain": [
       "[5, 3, 1]"
      ]
     },
     "execution_count": 24,
     "metadata": {},
     "output_type": "execute_result"
    }
   ],
   "source": [
    "# fixed solution\n",
    "class Solution:\n",
    "    def getReversedAlternates(self, arr):\n",
    "        # Your code here\n",
    "        result = []\n",
    "        for i in range(len(arr)-1, -1, -2):\n",
    "            result.append(arr[i])\n",
    "        return result\n",
    "# code ends here\n",
    "\n",
    "sol = Solution()\n",
    "sol.getReversedAlternates([1,2,3,4,5])"
   ]
  },
  {
   "cell_type": "markdown",
   "id": "c0b1362c",
   "metadata": {},
   "source": []
  },
  {
   "cell_type": "markdown",
   "id": "3bedb067",
   "metadata": {},
   "source": []
  },
  {
   "cell_type": "markdown",
   "id": "2a57a401",
   "metadata": {},
   "source": [
    "## Problem 2: Array Search\n",
    "\n",
    "Given an array, arr of n integers, and an integer element x, find whether element x is present in the array. Return the index of the first occurrence of x in the array, or -1 if it doesn't exist.\n",
    "\n",
    "Examples:\n",
    "\n",
    "    Input: arr[] = [1, 2, 3, 4], x = 3\n",
    "    Output: 2\n",
    "    Explanation: There is one test case with array as [1, 2, 3 4] and element to be searched as 3. Since 3 is present at index 2, the output is 2.\n",
    "\n",
    "    Input: arr[] = [10, 8, 30, 4, 5], x = 5\n",
    "    Output: 4\n",
    "    Explanation: For array [1, 2, 3, 4, 5], the element to be searched is 5 and it is at index 4. So, the output is 4.\n",
    "\n",
    "    Input: arr[] = [10, 8, 30], x = 6\n",
    "    Output: -1\n",
    "    Explanation: The element to be searched is 6 and its not present, so we return -1.\n",
    "\n",
    "Expected Time Complexity: O(n).\n",
    "Expected Auxiliary Space: O(1). \n",
    "\n",
    "Constraints:\n",
    "\n",
    "1 <= arr.size <= 10<sup>6</sup>\n",
    "\n",
    "0 <= arr[i] <= 10<sup>6</sup>\n",
    "\n",
    "0 <= x <= 10<sup>5</sup>"
   ]
  },
  {
   "cell_type": "code",
   "execution_count": 25,
   "id": "ca0a5731",
   "metadata": {},
   "outputs": [
    {
     "name": "stdout",
     "output_type": "stream",
     "text": [
      "2\n",
      "4\n",
      "-1\n"
     ]
    }
   ],
   "source": [
    "# practice\n",
    "class Solution:\n",
    "    def search(self, arr, target):\n",
    "        for i in range(0,len(arr)):\n",
    "            if arr[i] == target:\n",
    "                return i\n",
    "        \n",
    "        return -1\n",
    "    \n",
    "sol = Solution()\n",
    "print(sol.search([1, 2, 3, 4], 3))      # Output: 2\n",
    "print(sol.search([10, 8, 30, 4, 5], 5)) # Output: 4\n",
    "print(sol.search([10, 8, 30], 6))    "
   ]
  },
  {
   "cell_type": "code",
   "execution_count": 26,
   "id": "0671455e",
   "metadata": {},
   "outputs": [
    {
     "name": "stdout",
     "output_type": "stream",
     "text": [
      "2\n",
      "4\n",
      "-1\n"
     ]
    }
   ],
   "source": [
    "#User function Template for python3\n",
    "\n",
    "class Solution:\n",
    "    #Complete the below function\n",
    "    def search(self,arr, x):\n",
    "        #Your code here\n",
    "        for i in range(0, len(arr)):\n",
    "            if arr[i] == x:\n",
    "                return i\n",
    "        return -1\n",
    "\n",
    "# code ends here\n",
    "\n",
    "sol = Solution()\n",
    "print(sol.search([1, 2, 3, 4], 3))      # Output: 2\n",
    "print(sol.search([10, 8, 30, 4, 5], 5)) # Output: 4\n",
    "print(sol.search([10, 8, 30], 6))       # Output: -1"
   ]
  },
  {
   "cell_type": "markdown",
   "id": "ac9067cf",
   "metadata": {},
   "source": [
    "### 🔄 Variation: Search Last Occurrence of an Element**\n",
    "✅ Problem Statement:\n",
    "\n",
    "Given an array `arr[]` of `n` integers and an integer `x`, find the index of the **last occurrence** of `x` in the array. If `x` is not present, return `-1`.\n",
    "\n",
    "---\n",
    "### Example:\n",
    "\n",
    "```python\n",
    "Input: arr[] = [1, 2, 3, 4, 3], x = 3\n",
    "Output: 4\n",
    "Explanation: The last occurrence of 3 is at index 4.\n",
    "\n",
    "Input: arr[] = [5, 6, 7, 8, 9], x = 10\n",
    "Output: -1\n",
    "Explanation: Since 10 is not in the array, return -1.\n",
    "```\n"
   ]
  },
  {
   "cell_type": "code",
   "execution_count": 27,
   "id": "aabab2d5",
   "metadata": {},
   "outputs": [
    {
     "name": "stdout",
     "output_type": "stream",
     "text": [
      "4\n",
      "-1\n",
      "2\n",
      "0\n",
      "4\n",
      "0\n"
     ]
    }
   ],
   "source": [
    "# practice\n",
    "class Solution:\n",
    "    def search_last_occurrence(self, arr, x):\n",
    "        last_occurence = -1\n",
    "        for i in range(0, len(arr)):\n",
    "            if arr[i] == x:\n",
    "                last_occurence = i\n",
    "        \n",
    "        return last_occurence\n",
    "    \n",
    "\n",
    "# code ends here\n",
    "sol = Solution()\n",
    "\n",
    "# Test cases\n",
    "print(sol.search_last_occurrence([1, 2, 3, 4, 3], 3))  # Output: 4\n",
    "print(sol.search_last_occurrence([5, 6, 7, 8, 9], 10))  # Output: -1\n",
    "print(sol.search_last_occurrence([1, 2, 3, 4], 3))  # Output: 2\n",
    "print(sol.search_last_occurrence([10, 20, 30, 40, 50], 10))  # Output: 0\n",
    "print(sol.search_last_occurrence([100, 200, 300, 400, 500], 500))  # Output: 4\n",
    "print(sol.search_last_occurrence([7], 7))  # Output: 0"
   ]
  },
  {
   "cell_type": "code",
   "execution_count": 28,
   "id": "320e662a",
   "metadata": {},
   "outputs": [
    {
     "name": "stdout",
     "output_type": "stream",
     "text": [
      "4\n",
      "-1\n",
      "2\n",
      "0\n",
      "4\n",
      "0\n"
     ]
    }
   ],
   "source": [
    "class Solution:\n",
    "    def search_last_occurrence(self, arr, x):\n",
    "        # Your code here\n",
    "        last_index = -1\n",
    "        for i in range(0, len(arr)):\n",
    "            if arr[i] == x:\n",
    "                last_index = i\n",
    "        return last_index\n",
    "\n",
    "# code ends here\n",
    "sol = Solution()\n",
    "\n",
    "# Test cases\n",
    "print(sol.search_last_occurrence([1, 2, 3, 4, 3], 3))  # Output: 4\n",
    "print(sol.search_last_occurrence([5, 6, 7, 8, 9], 10))  # Output: -1\n",
    "print(sol.search_last_occurrence([1, 2, 3, 4], 3))  # Output: 2\n",
    "print(sol.search_last_occurrence([10, 20, 30, 40, 50], 10))  # Output: 0\n",
    "print(sol.search_last_occurrence([100, 200, 300, 400, 500], 500))  # Output: 4\n",
    "print(sol.search_last_occurrence([7], 7))  # Output: 0\n"
   ]
  },
  {
   "cell_type": "markdown",
   "id": "5f2be999",
   "metadata": {},
   "source": []
  },
  {
   "cell_type": "markdown",
   "id": "ad2604b8",
   "metadata": {},
   "source": []
  },
  {
   "cell_type": "markdown",
   "id": "ce860229",
   "metadata": {},
   "source": [
    "## Problem 3: Largest Element in Array\n",
    "\n",
    "Given an array arr[]. The task is to find the largest element and return it.\n",
    "\n",
    "Examples:\n",
    "\n",
    "    Input: arr[] = [1, 8, 7, 56, 90]\n",
    "    Output: 90\n",
    "    Explanation: The largest element of the given array is 90.\n",
    "\n",
    "    Input: arr[] = [5, 5, 5, 5]\n",
    "    Output: 5\n",
    "    Explanation: The largest element of the given array is 5.\n",
    "\n",
    "    Input: arr[] = [10]\n",
    "    Output: 10\n",
    "    Explanation: There is only one element which is the largest.\n",
    "\n",
    "Constraints:\n",
    "\n",
    "1 <= arr.size()<= 10<sup>6</sup>\n",
    "\n",
    "0 <= arr[i] <= 10<sup>6</sup>"
   ]
  },
  {
   "cell_type": "code",
   "execution_count": 29,
   "id": "0891fc8c",
   "metadata": {},
   "outputs": [
    {
     "name": "stdout",
     "output_type": "stream",
     "text": [
      "90\n",
      "5\n",
      "10\n",
      "-2\n",
      "500\n",
      "0\n"
     ]
    }
   ],
   "source": [
    "# common mistake in this question:\n",
    "# setting largest = 0 or -1 doesn't work for negative values\n",
    "\n",
    "# initiliase largest as arr[0] then keep comparing\n",
    "\n",
    "class Solution:\n",
    "    def largest(self, arr):\n",
    "        # code here\n",
    "        max = arr[0]\n",
    "        for i in range(0, len(arr)):\n",
    "            if arr[i] >= max:\n",
    "                max = arr[i]\n",
    "        return max\n",
    "        \n",
    "\n",
    "# code ends here\n",
    "sol = Solution()\n",
    "\n",
    "# Test cases\n",
    "print(sol.largest([1, 8, 7, 56, 90]))  # Output: 90\n",
    "print(sol.largest([5, 5, 5, 5]))  # Output: 5\n",
    "print(sol.largest([10]))  # Output: 10\n",
    "print(sol.largest([-5, -2, -10, -8]))  # Output: -2\n",
    "print(sol.largest([100, 200, 300, 400, 500]))  # Output: 500\n",
    "print(sol.largest([0]))  # Output: 0\n"
   ]
  },
  {
   "cell_type": "markdown",
   "id": "3f7e98c9",
   "metadata": {},
   "source": []
  },
  {
   "cell_type": "markdown",
   "id": "7c7ad91d",
   "metadata": {},
   "source": []
  },
  {
   "cell_type": "markdown",
   "id": "d74ddbe5",
   "metadata": {},
   "source": [
    "## Problem 4: Reverse an Array\n",
    "\n",
    "You are given an array of integers arr[]. Your task is to reverse the given array.\n",
    "\n",
    "**Note:** Modify the array in place.\n",
    "\n",
    "Examples:\n",
    "\n",
    "    Input: arr = [1, 4, 3, 2, 6, 5]\n",
    "    Output: [5, 6, 2, 3, 4, 1]\n",
    "    Explanation: The elements of the array are 1 4 3 2 6 5. After reversing the array, the first element goes to the last position, the second element goes to the second last position and so on. Hence, the answer is 5 6 2 3 4 1.\n",
    "\n",
    "    Input: arr = [4, 5, 2]\n",
    "    Output: [2, 5, 4]\n",
    "    Explanation: The elements of the array are 4 5 2. The reversed array will be 2 5 4.\n",
    "\n",
    "    Input: arr = [1]\n",
    "    Output: [1]\n",
    "    Explanation: The array has only single element, hence the reversed array is same as the original.\n",
    "\n",
    "Constraints:\n",
    "\n",
    "1 <= arr.size()<= 10<sup>5</sup>\n",
    "\n",
    "0 <= arr[i] <= 10<sup>5</sup>"
   ]
  },
  {
   "cell_type": "code",
   "execution_count": 30,
   "id": "ba7f3eaf",
   "metadata": {},
   "outputs": [
    {
     "name": "stdout",
     "output_type": "stream",
     "text": [
      "[5, 6, 2, 3, 4, 1]\n",
      "[2, 5, 4]\n",
      "[1]\n"
     ]
    }
   ],
   "source": [
    "class Solution:\n",
    "    def reverseArray(self, arr):\n",
    "\n",
    "        temp = 0\n",
    "        n = len(arr)\n",
    "        for i in range(0, n//2): # or int(n/2) --> n//2 is cleaner\n",
    "            temp = arr[i]\n",
    "            arr[i] = arr[(n-1)-i]\n",
    "            arr[(n-1)-i] = temp\n",
    "        return arr\n",
    " # Driver Code Starts\n",
    "\n",
    "sol = Solution()\n",
    "\n",
    "arr1 = [1, 4, 3, 2, 6, 5]\n",
    "sol.reverseArray(arr1)\n",
    "print(arr1)  # [5, 6, 2, 3, 4, 1]\n",
    "\n",
    "arr2 = [4, 5, 2]\n",
    "sol.reverseArray(arr2)\n",
    "print(arr2)  # [2, 5, 4]\n",
    "\n",
    "arr3 = [1]\n",
    "sol.reverseArray(arr3)\n",
    "print(arr3)  # [1]\n"
   ]
  },
  {
   "cell_type": "markdown",
   "id": "bf4754f5",
   "metadata": {},
   "source": []
  },
  {
   "cell_type": "markdown",
   "id": "a4e1af63",
   "metadata": {},
   "source": []
  },
  {
   "cell_type": "markdown",
   "id": "4cbaee55",
   "metadata": {},
   "source": [
    "## Problem 5: Check if Array is Sorted\n",
    "\n",
    "Given an array arr[], check whether it is sorted in non-decreasing order. Return true if it is sorted otherwise false.\n",
    "\n",
    "Examples:\n",
    "\n",
    "    Input: arr[] = [10, 20, 30, 40, 50]\n",
    "    Output: true\n",
    "    Explanation: The given array is sorted.\n",
    "\n",
    "    Input: arr[] = [90, 80, 100, 70, 40, 30]\n",
    "    Output: false\n",
    "    Explanation: The given array is not sorted.\n",
    "\n",
    "Constraints:\n",
    "\n",
    "1 <= arr.size()<= 10<sup>6</sup>\n",
    "\n",
    "10<sup>-9</sup> <= arr[i] <= 10<sup>9</sup>"
   ]
  },
  {
   "cell_type": "code",
   "execution_count": 31,
   "id": "cd645f77",
   "metadata": {},
   "outputs": [
    {
     "name": "stdout",
     "output_type": "stream",
     "text": [
      "True\n",
      "True\n",
      "False\n",
      "False\n",
      "True\n",
      "True\n",
      "True\n",
      "False\n"
     ]
    }
   ],
   "source": [
    "#User function Template for python3\n",
    "\n",
    "# Approach 1: checking if a[i] < a[i+1]\n",
    "# class Solution:\n",
    "#     def arraySortedOrNot(self, arr) -> bool:\n",
    "#         # code here\n",
    "#         is_sorted = False\n",
    "#         n = len(arr)\n",
    "#         for i in range(0,n-1):\n",
    "#             if arr[i] <= arr[i+1]:\n",
    "#                 is_sorted = True\n",
    "#             else:\n",
    "#                 is_sorted = False\n",
    "#                 return  is_sorted\n",
    "#         return is_sorted\n",
    "\n",
    "# Approach 2: checking if a[i] > a[i+1] --> more efficient\n",
    "class Solution:\n",
    "    def arraySortedOrNot(self, arr) -> bool:\n",
    "        # code here\n",
    "        n = len(arr)\n",
    "        for i in range(n-1):\n",
    "            if arr[i] > arr[i+1]:\n",
    "                return False\n",
    "        return True\n",
    "# Driver Code Ends\n",
    "\n",
    "sol = Solution()\n",
    "\n",
    "# Test Case 1: Sorted array with distinct elements\n",
    "arr1 = [1, 2, 3, 4, 5]\n",
    "print(sol.arraySortedOrNot(arr1))  # Expected: True\n",
    "\n",
    "# Test Case 2: Sorted with duplicates\n",
    "arr2 = [1, 2, 2, 3, 3]\n",
    "print(sol.arraySortedOrNot(arr2))  # Expected: True\n",
    "\n",
    "# Test Case 3: Not sorted\n",
    "arr3 = [1, 3, 2, 4]\n",
    "print(sol.arraySortedOrNot(arr3))  # Expected: False\n",
    "\n",
    "# Test Case 4: Descending order\n",
    "arr4 = [9, 7, 5, 3]\n",
    "print(sol.arraySortedOrNot(arr4))  # Expected: False\n",
    "\n",
    "# Test Case 5: Single element\n",
    "arr5 = [10]\n",
    "print(sol.arraySortedOrNot(arr5))  # Expected: True\n",
    "\n",
    "# Test Case 6: All elements same\n",
    "arr6 = [5, 5, 5, 5]\n",
    "print(sol.arraySortedOrNot(arr6))  # Expected: True\n",
    "\n",
    "# Test Case 7: Two elements - sorted\n",
    "arr7 = [2, 3]\n",
    "print(sol.arraySortedOrNot(arr7))  # Expected: True\n",
    "\n",
    "# Test Case 8: Two elements - not sorted\n",
    "arr8 = [4, 1]\n",
    "print(sol.arraySortedOrNot(arr8))  # Expected: False\n"
   ]
  },
  {
   "cell_type": "markdown",
   "id": "dc150dc3",
   "metadata": {},
   "source": []
  },
  {
   "cell_type": "markdown",
   "id": "3cf582c0",
   "metadata": {},
   "source": []
  },
  {
   "cell_type": "markdown",
   "id": "2ed708d6",
   "metadata": {},
   "source": [
    "\n",
    "## Problem 6: Move All Zeros to the End\n",
    "\n",
    "**Problem Statement:**\n",
    "\n",
    "Given an array `arr[]` of size `n`, move all zeros to the end of the array **in-place** while maintaining the relative order of the non-zero elements. Your task is to modify the array and return it.\n",
    "\n",
    "---\n",
    "\n",
    "### 🧠 Constraints:\n",
    "- 1 ≤ `arr.size()` ≤ 10⁵  \n",
    "- -10⁶ ≤ `arr[i]` ≤ 10⁶\n",
    "\n",
    "---\n",
    "\n",
    "### 🧪 Examples:\n",
    "\n",
    "**Example 1:**\n",
    "```\n",
    "Input: arr = [0, 1, 0, 3, 12]\n",
    "Output: [1, 3, 12, 0, 0]\n",
    "```\n",
    "\n",
    "**Example 2:**\n",
    "```\n",
    "Input: arr = [0, 0, 0, 0]\n",
    "Output: [0, 0, 0, 0]\n",
    "```\n",
    "\n",
    "**Example 3:**\n",
    "```\n",
    "Input: arr = [1, 2, 3, 4]\n",
    "Output: [1, 2, 3, 4]\n",
    "```\n",
    "\n",
    "**Example 4:**\n",
    "```\n",
    "Input: arr = [0]\n",
    "Output: [0]\n",
    "```"
   ]
  },
  {
   "cell_type": "code",
   "execution_count": null,
   "id": "a18010ec",
   "metadata": {},
   "outputs": [
    {
     "name": "stdout",
     "output_type": "stream",
     "text": [
      "[1, 3, 12, 0, 0]\n",
      "[0, 0, 0]\n",
      "[1, 2, 3]\n",
      "[0, 5, 7, 9, 0, 0, 0]\n",
      "[0]\n"
     ]
    }
   ],
   "source": [
    "class Solution:\n",
    "    def move_zeroes(self, arr):\n",
    "        n = len(arr)\n",
    "        for i in range(0,n):\n",
    "            if arr[i]==0:\n",
    "                arr.pop(i)\n",
    "                arr.append(0)\n",
    "        return arr\n",
    "sol = Solution()\n",
    "\n",
    "print(sol.move_zeroes([0, 1, 0, 3, 12]))  # Expected: [1, 3, 12, 0, 0]\n",
    "print(sol.move_zeroes([0, 0, 0]))         # Expected: [0, 0, 0]\n",
    "print(sol.move_zeroes([1, 2, 3]))         # Expected: [1, 2, 3]\n",
    "print(sol.move_zeroes([0, 0, 5, 0, 7, 0, 9]))# Expected: [5, 7, 9, 0, 0, 0,0]\n",
    "print(sol.move_zeroes([0]))              # Expected: [0]\n"
   ]
  },
  {
   "cell_type": "markdown",
   "id": "834b7055",
   "metadata": {},
   "source": [
    "The above solution is therefore wrong."
   ]
  },
  {
   "cell_type": "code",
   "execution_count": 34,
   "id": "2ca9e83a",
   "metadata": {},
   "outputs": [
    {
     "name": "stdout",
     "output_type": "stream",
     "text": [
      "[1, 3, 12, 0, 0]\n",
      "[0, 0, 0]\n",
      "[1, 2, 3]\n",
      "[5, 7, 9, 0, 0, 0]\n",
      "[0]\n"
     ]
    }
   ],
   "source": [
    "class Solution:\n",
    "    def moveZeros(self, arr):\n",
    "        last_non_zero = 0  # Position to place the next non-zero element\n",
    "\n",
    "        for current in range(len(arr)):\n",
    "            if arr[current] != 0:\n",
    "                # Swap current element with the element at last_non_zero\n",
    "                # if all elements are zero, then last_non_zero will be 0,  no change in array at the end\n",
    "                arr[last_non_zero], arr[current] = arr[current], arr[last_non_zero]\n",
    "                last_non_zero += 1\n",
    "\n",
    "        return arr\n",
    "\n",
    "sol = Solution()\n",
    "\n",
    "print(sol.moveZeros([0, 1, 0, 3, 12]))  # Expected: [1, 3, 12, 0, 0]\n",
    "print(sol.moveZeros([0, 0, 0]))         # Expected: [0, 0, 0]\n",
    "print(sol.moveZeros([1, 2, 3]))         # Expected: [1, 2, 3]\n",
    "print(sol.moveZeros([0, 5, 0, 7, 0, 9]))# Expected: [5, 7, 9, 0, 0, 0]\n",
    "print(sol.moveZeros([0]))              # Expected: [0]\n"
   ]
  }
 ],
 "metadata": {
  "kernelspec": {
   "display_name": "base",
   "language": "python",
   "name": "python3"
  },
  "language_info": {
   "codemirror_mode": {
    "name": "ipython",
    "version": 3
   },
   "file_extension": ".py",
   "mimetype": "text/x-python",
   "name": "python",
   "nbconvert_exporter": "python",
   "pygments_lexer": "ipython3",
   "version": "3.10.13"
  }
 },
 "nbformat": 4,
 "nbformat_minor": 5
}
