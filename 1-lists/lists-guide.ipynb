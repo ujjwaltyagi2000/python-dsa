{
 "cells": [
  {
   "cell_type": "markdown",
   "id": "024dd323",
   "metadata": {},
   "source": [
    "# **Lists**"
   ]
  },
  {
   "cell_type": "markdown",
   "id": "71a4a511",
   "metadata": {},
   "source": [
    "A list is a built-in dynamic sized array (automatically grows and shrinks). We can store all types of items (including another list) in a list. A list may contain mixed type of items, this is possible because a list mainly stores references at contiguous locations and actual items maybe stored at different locations.\n",
    "\n",
    "- List can contain duplicate items.\n",
    "- List in Python are Mutable. Hence, we can modify, replace or delete the items.\n",
    "- List are ordered. It maintain the order of elements based on how they are added.\n",
    "- Accessing items in List can be done directly using their position (index), starting from 0."
   ]
  },
  {
   "cell_type": "markdown",
   "id": "54ecc321",
   "metadata": {},
   "source": [
    "## 1. Creating Lists\n",
    "\n",
    "Here are some common methods to create a list:"
   ]
  },
  {
   "cell_type": "markdown",
   "id": "8e6c8832",
   "metadata": {},
   "source": [
    "### a) Using square brackets"
   ]
  },
  {
   "cell_type": "code",
   "execution_count": 1,
   "id": "e12c57eb",
   "metadata": {},
   "outputs": [
    {
     "name": "stdout",
     "output_type": "stream",
     "text": [
      "[1, 2, 3, 4, 5]\n",
      "['apple', 'banana', 'cherry']\n",
      "[1, 'hello', 3.14, True]\n"
     ]
    }
   ],
   "source": [
    "# List of integers\n",
    "a = [1, 2, 3, 4, 5]\n",
    "\n",
    "# List of strings\n",
    "b = ['apple', 'banana', 'cherry']\n",
    "\n",
    "# Mixed data types\n",
    "c = [1, 'hello', 3.14, True]\n",
    "\n",
    "print(a)\n",
    "print(b)\n",
    "print(c)"
   ]
  },
  {
   "cell_type": "markdown",
   "id": "3db7741d",
   "metadata": {},
   "source": [
    "### b) Using list() constructor\n",
    "We can also create a list by passing an iterable (like a string, tuple or another list) to list() function."
   ]
  },
  {
   "cell_type": "code",
   "execution_count": 2,
   "id": "af627c63",
   "metadata": {},
   "outputs": [
    {
     "name": "stdout",
     "output_type": "stream",
     "text": [
      "[1, 2, 3, 'apple', 4.5]\n"
     ]
    }
   ],
   "source": [
    "# From a tuple\n",
    "a = list((1, 2, 3, 'apple', 4.5))  \n",
    "\n",
    "print(a)"
   ]
  },
  {
   "cell_type": "markdown",
   "id": "f7118af7",
   "metadata": {},
   "source": [
    "### c) Using range() function"
   ]
  },
  {
   "cell_type": "code",
   "execution_count": null,
   "id": "e5d0209e",
   "metadata": {},
   "outputs": [
    {
     "name": "stdout",
     "output_type": "stream",
     "text": [
      "[1, 2, 3, 4, 5]\n",
      "[10, 20, 30, 40, 50, 60, 70, 80, 90, 100]\n"
     ]
    }
   ],
   "source": [
    "a = list(range(1, 6))  # range(start, stop, step)\n",
    "print(a)\n",
    "\n",
    "b = list(range(10,110,10)) \n",
    "print(b)"
   ]
  },
  {
   "cell_type": "markdown",
   "id": "40f1f4d4",
   "metadata": {},
   "source": []
  },
  {
   "cell_type": "markdown",
   "id": "46bce4ca",
   "metadata": {},
   "source": []
  },
  {
   "cell_type": "markdown",
   "id": "69f4205b",
   "metadata": {},
   "source": [
    "### d) Creating List with Repeated Elements\n",
    "\n",
    "We can create a list with repeated elements using the multiplication operator."
   ]
  },
  {
   "cell_type": "code",
   "execution_count": 5,
   "id": "dda0deda",
   "metadata": {},
   "outputs": [
    {
     "name": "stdout",
     "output_type": "stream",
     "text": [
      "[2, 2, 2, 2, 2]\n",
      "[0, 0, 0, 0, 0, 0, 0]\n"
     ]
    }
   ],
   "source": [
    "# Create a list [2, 2, 2, 2, 2]\n",
    "a = [2] * 5\n",
    "\n",
    "# Create a list [0, 0, 0, 0, 0, 0, 0]\n",
    "b = [0] * 7\n",
    "\n",
    "print(a)\n",
    "print(b)"
   ]
  },
  {
   "cell_type": "markdown",
   "id": "d1a1c676",
   "metadata": {},
   "source": []
  },
  {
   "cell_type": "markdown",
   "id": "35291948",
   "metadata": {},
   "source": []
  },
  {
   "cell_type": "markdown",
   "id": "7d9fffdd",
   "metadata": {},
   "source": [
    "## 2. Accessing List Elements\n",
    "\n",
    "Elements in a list can be accessed using indexing. Python indexes start at 0, so a[0] will access the first element, while negative indexing allows us to access elements from the end of the list. Like index -1 represents the last elements of list."
   ]
  },
  {
   "cell_type": "code",
   "execution_count": 6,
   "id": "e5c5b2a6",
   "metadata": {},
   "outputs": [
    {
     "name": "stdout",
     "output_type": "stream",
     "text": [
      "10\n",
      "50\n"
     ]
    }
   ],
   "source": [
    "a = [10, 20, 30, 40, 50]\n",
    "\n",
    "# Access first element\n",
    "print(a[0])    \n",
    "\n",
    "# Access last element\n",
    "print(a[-1])"
   ]
  },
  {
   "cell_type": "markdown",
   "id": "910296c3",
   "metadata": {},
   "source": [
    "### List Sclicing"
   ]
  },
  {
   "cell_type": "code",
   "execution_count": 8,
   "id": "a18318ca",
   "metadata": {},
   "outputs": [
    {
     "name": "stdout",
     "output_type": "stream",
     "text": [
      "[10, 20, 30]\n",
      "[80, 90, 100]\n",
      "[20, 30, 40, 50, 60, 70, 80, 90]\n",
      "[10, 30, 50, 70, 90]\n",
      "[100, 80, 60, 40, 20]\n"
     ]
    }
   ],
   "source": [
    "a = [10, 20, 30, 40, 50, 60, 70, 80, 90, 100]\n",
    "\n",
    "# Access first three elements\n",
    "print(a[:3])\n",
    "\n",
    "# Access last three elements\n",
    "print(a[-3:])\n",
    "\n",
    "# Access all elements except first and last\n",
    "print(a[1:-1])\n",
    "\n",
    "# Access every second element\n",
    "print(a[::2])\n",
    "# indexes --> 0, 2, 4, 6, 8\n",
    "\n",
    "# Access every second element in reverse order\n",
    "print(a[::-2])\n",
    "# indexes --> -1, -3, -5, -7, -9"
   ]
  },
  {
   "cell_type": "markdown",
   "id": "b0aec4c7",
   "metadata": {},
   "source": []
  },
  {
   "cell_type": "markdown",
   "id": "4783db47",
   "metadata": {},
   "source": []
  },
  {
   "cell_type": "markdown",
   "id": "e2ced232",
   "metadata": {},
   "source": [
    "## 3. Adding Elements into List\n",
    "\n",
    "We can add elements to a list using the following methods:\n",
    "\n",
    "    append(): Adds an element at the end of the list.\n",
    "    extend(): Adds multiple elements to the end of the list.\n",
    "    insert(): Adds an element at a specific position."
   ]
  },
  {
   "cell_type": "code",
   "execution_count": 9,
   "id": "02132a8e",
   "metadata": {},
   "outputs": [
    {
     "name": "stdout",
     "output_type": "stream",
     "text": [
      "After append(10):  [10]\n",
      "After insert(0,5):  [5, 10]\n",
      "After extend([15,20,25]):  [5, 10, 15, 20, 25]\n"
     ]
    }
   ],
   "source": [
    "a = []\n",
    "\n",
    "# adding 10 to the end of the list\n",
    "a.append(10)\n",
    "print(\"After append(10): \", a)\n",
    "\n",
    "# inserting 5 at index 0\n",
    "a.insert(0,5)\n",
    "print(\"After insert(0,5): \", a)\n",
    "\n",
    "# adding multiples elements [15,20,25] at the end\n",
    "a.extend([15,20,25])\n",
    "print(\"After extend([15,20,25]): \", a)"
   ]
  },
  {
   "cell_type": "markdown",
   "id": "08f4c08e",
   "metadata": {},
   "source": []
  },
  {
   "cell_type": "markdown",
   "id": "a228f366",
   "metadata": {},
   "source": []
  },
  {
   "cell_type": "markdown",
   "id": "0c42c202",
   "metadata": {},
   "source": [
    "## 4. Updating Elements into List\n",
    "\n",
    "We can change the value of an element by accessing it using its index as they are mutable."
   ]
  },
  {
   "cell_type": "code",
   "execution_count": 10,
   "id": "e39b4738",
   "metadata": {},
   "outputs": [
    {
     "name": "stdout",
     "output_type": "stream",
     "text": [
      "[10, 25, 30, 40, 50]\n"
     ]
    }
   ],
   "source": [
    "a = [10, 20, 30, 40, 50]\n",
    "\n",
    "# Change the second element\n",
    "a[1] = 25 \n",
    "\n",
    "print(a)"
   ]
  },
  {
   "cell_type": "markdown",
   "id": "35a9d680",
   "metadata": {},
   "source": []
  },
  {
   "cell_type": "markdown",
   "id": "796dbea0",
   "metadata": {},
   "source": []
  },
  {
   "cell_type": "markdown",
   "id": "75beb76c",
   "metadata": {},
   "source": [
    "## 5. Removing Elements from List\n",
    "\n",
    "We can remove elements from a list using:\n",
    "\n",
    "    remove(): Removes the first occurrence of an element (deletes paricular element) \n",
    "    pop(): Removes the element at a specific index or the last element if no index is specified.\n",
    "    del statement: Deletes an element at a specified index.\n",
    "    clear(): Removes all items of a list and returns an empty list"
   ]
  },
  {
   "cell_type": "code",
   "execution_count": 17,
   "id": "3f1ef3e1",
   "metadata": {},
   "outputs": [
    {
     "name": "stdout",
     "output_type": "stream",
     "text": [
      "After remove(30): [10, 20, 40, 50]\n",
      "Popped element: 20\n",
      "After pop(1): [10, 40, 50]\n",
      "After del a[0]: [40, 50]\n"
     ]
    }
   ],
   "source": [
    "a = [10, 20, 30, 40, 50]\n",
    "\n",
    "# Removes the first occurrence of 30\n",
    "a.remove(30)  \n",
    "print(\"After remove(30):\", a)\n",
    "\n",
    "# Removes the element at index 1 (20)\n",
    "popped_val = a.pop(1)  \n",
    "print(\"Popped element:\", popped_val)\n",
    "print(\"After pop(1):\", a) \n",
    "\n",
    "# Deletes the first element (10)\n",
    "del a[0]  \n",
    "print(\"After del a[0]:\", a)\n",
    "\n",
    "# Deletes the entire list\n",
    "del a  \n",
    "# print(\"After del a:\", a) # throws error"
   ]
  },
  {
   "cell_type": "code",
   "execution_count": 30,
   "id": "5b15bc0f",
   "metadata": {},
   "outputs": [
    {
     "name": "stdout",
     "output_type": "stream",
     "text": [
      "[]\n"
     ]
    }
   ],
   "source": [
    "# clearing a list\n",
    "a = [10, 20, 30, 40, 50]\n",
    "a.clear()\n",
    "print(a)"
   ]
  },
  {
   "cell_type": "markdown",
   "id": "fde938be",
   "metadata": {},
   "source": []
  },
  {
   "cell_type": "markdown",
   "id": "8abd14f0",
   "metadata": {},
   "source": []
  },
  {
   "cell_type": "markdown",
   "id": "7f3c6da6",
   "metadata": {},
   "source": [
    "## 6. Iterating Over Lists\n",
    "\n",
    "We can iterate the Lists easily by using a for loop or other iteration methods. Iterating over lists is useful when we want to do some operation on each item or access specific items based on certain conditions. Let’s take an example to iterate over the list using for loop."
   ]
  },
  {
   "cell_type": "code",
   "execution_count": 18,
   "id": "87e32b9b",
   "metadata": {},
   "outputs": [
    {
     "name": "stdout",
     "output_type": "stream",
     "text": [
      "apple\n",
      "banana\n",
      "cherry\n"
     ]
    }
   ],
   "source": [
    "a = ['apple', 'banana', 'cherry']\n",
    "\n",
    "# Iterating over the list\n",
    "for item in a:\n",
    "    print(item)"
   ]
  },
  {
   "cell_type": "code",
   "execution_count": 27,
   "id": "d403ff21",
   "metadata": {},
   "outputs": [
    {
     "name": "stdout",
     "output_type": "stream",
     "text": [
      "0 10\n",
      "1 20\n",
      "2 30\n",
      "This will not be printed\n"
     ]
    }
   ],
   "source": [
    "# iterating over lists with index\n",
    "a = [10, 20, 30, 40, 50]\n",
    "\n",
    "# iterating over lists with index\n",
    "for index, item in enumerate(a):\n",
    "    print(index, item)\n",
    "    if index == 2:\n",
    "        print(\"This will not be printed\")\n",
    "        break"
   ]
  },
  {
   "cell_type": "code",
   "execution_count": 28,
   "id": "5515b8fb",
   "metadata": {},
   "outputs": [
    {
     "name": "stdout",
     "output_type": "stream",
     "text": [
      "0 10\n",
      "1 20\n",
      "2 30\n",
      "This will be printed\n",
      "3 40\n",
      "4 50\n"
     ]
    }
   ],
   "source": [
    "# iterating over lists with index\n",
    "for index, item in enumerate(a):\n",
    "    print(index, item)\n",
    "    if index == 2:\n",
    "        print(\"This will be printed\")\n",
    "        continue"
   ]
  },
  {
   "cell_type": "markdown",
   "id": "f230f459",
   "metadata": {},
   "source": []
  },
  {
   "cell_type": "markdown",
   "id": "575507fb",
   "metadata": {},
   "source": []
  },
  {
   "cell_type": "markdown",
   "id": "90d64f01",
   "metadata": {},
   "source": [
    "## 7. Nested Lists in Python\n",
    "\n",
    "A nested list is a list within another list, which is useful for representing matrices or tables. We can access nested elements by chaining indexes."
   ]
  },
  {
   "cell_type": "code",
   "execution_count": 29,
   "id": "a7000191",
   "metadata": {},
   "outputs": [
    {
     "name": "stdout",
     "output_type": "stream",
     "text": [
      "6\n"
     ]
    }
   ],
   "source": [
    "matrix = [\n",
    "    [1, 2, 3],\n",
    "    [4, 5, 6],\n",
    "    [7, 8, 9]\n",
    "]\n",
    "\n",
    "# Access element at row 2, column 3\n",
    "print(matrix[1][2])"
   ]
  }
 ],
 "metadata": {
  "kernelspec": {
   "display_name": "base",
   "language": "python",
   "name": "python3"
  },
  "language_info": {
   "codemirror_mode": {
    "name": "ipython",
    "version": 3
   },
   "file_extension": ".py",
   "mimetype": "text/x-python",
   "name": "python",
   "nbconvert_exporter": "python",
   "pygments_lexer": "ipython3",
   "version": "3.10.13"
  }
 },
 "nbformat": 4,
 "nbformat_minor": 5
}
